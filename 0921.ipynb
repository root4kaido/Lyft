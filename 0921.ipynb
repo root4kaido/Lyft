{
 "cells": [
  {
   "cell_type": "markdown",
   "metadata": {},
   "source": [
    "# EDAするノートブック"
   ]
  },
  {
   "cell_type": "code",
   "execution_count": 1,
   "metadata": {},
   "outputs": [
    {
     "name": "stdout",
     "output_type": "stream",
     "text": [
      "Defaulting to user installation because normal site-packages is not writeable\n",
      "Requirement already satisfied: l5kit in /home/user/.local/lib/python3.6/site-packages (1.0.6)\n",
      "Requirement already satisfied: transforms3d in /home/user/.local/lib/python3.6/site-packages (from l5kit) (0.3.1)\n",
      "Requirement already satisfied: setuptools in /home/user/.local/lib/python3.6/site-packages (from l5kit) (50.3.0)\n",
      "Requirement already satisfied: tqdm in /home/user/.local/lib/python3.6/site-packages (from l5kit) (4.19.9)\n",
      "Requirement already satisfied: torchvision<0.7.0,>=0.6.0 in /home/user/.local/lib/python3.6/site-packages (from l5kit) (0.6.1)\n",
      "Requirement already satisfied: notebook in /usr/local/lib/python3.6/dist-packages (from l5kit) (6.1.3)\n",
      "Requirement already satisfied: opencv-contrib-python-headless in /home/user/.local/lib/python3.6/site-packages (from l5kit) (4.4.0.42)\n",
      "Requirement already satisfied: ipywidgets in /usr/local/lib/python3.6/dist-packages (from l5kit) (7.5.1)\n",
      "Requirement already satisfied: numpy in /home/user/.local/lib/python3.6/site-packages (from l5kit) (1.19.2)\n",
      "Requirement already satisfied: ptable in /home/user/.local/lib/python3.6/site-packages (from l5kit) (0.9.2)\n",
      "Requirement already satisfied: scipy in /usr/local/lib/python3.6/dist-packages (from l5kit) (1.1.0)\n",
      "Requirement already satisfied: pymap3d in /home/user/.local/lib/python3.6/site-packages (from l5kit) (2.4.1)\n",
      "Requirement already satisfied: matplotlib in /usr/local/lib/python3.6/dist-packages (from l5kit) (3.0.0)\n",
      "Requirement already satisfied: protobuf==3.12.2 in /home/user/.local/lib/python3.6/site-packages (from l5kit) (3.12.2)\n",
      "Requirement already satisfied: torch<1.6.0,>=1.5.0 in /home/user/.local/lib/python3.6/site-packages (from l5kit) (1.5.1)\n",
      "Requirement already satisfied: imageio in /home/user/.local/lib/python3.6/site-packages (from l5kit) (2.9.0)\n",
      "Requirement already satisfied: pyyaml in /home/user/.local/lib/python3.6/site-packages (from l5kit) (5.3.1)\n",
      "Requirement already satisfied: zarr in /home/user/.local/lib/python3.6/site-packages (from l5kit) (2.4.0)\n",
      "Requirement already satisfied: pillow>=4.1.1 in /usr/local/lib/python3.6/dist-packages (from torchvision<0.7.0,>=0.6.0->l5kit) (7.2.0)\n",
      "Requirement already satisfied: tornado>=5.0 in /usr/local/lib/python3.6/dist-packages (from notebook->l5kit) (6.0.4)\n",
      "Requirement already satisfied: nbconvert in /usr/local/lib/python3.6/dist-packages (from notebook->l5kit) (5.6.1)\n",
      "Requirement already satisfied: prometheus-client in /home/user/.local/lib/python3.6/site-packages (from notebook->l5kit) (0.8.0)\n",
      "Requirement already satisfied: jupyter-core>=4.6.1 in /usr/local/lib/python3.6/dist-packages (from notebook->l5kit) (4.6.3)\n",
      "Requirement already satisfied: traitlets>=4.2.1 in /usr/local/lib/python3.6/dist-packages (from notebook->l5kit) (4.3.3)\n",
      "Requirement already satisfied: jupyter-client>=5.3.4 in /usr/local/lib/python3.6/dist-packages (from notebook->l5kit) (6.1.7)\n",
      "Requirement already satisfied: pyzmq>=17 in /usr/local/lib/python3.6/dist-packages (from notebook->l5kit) (19.0.2)\n",
      "Requirement already satisfied: argon2-cffi in /usr/local/lib/python3.6/dist-packages (from notebook->l5kit) (20.1.0)\n",
      "Requirement already satisfied: ipython-genutils in /usr/local/lib/python3.6/dist-packages (from notebook->l5kit) (0.2.0)\n",
      "Requirement already satisfied: Send2Trash in /usr/local/lib/python3.6/dist-packages (from notebook->l5kit) (1.5.0)\n",
      "Requirement already satisfied: nbformat in /usr/local/lib/python3.6/dist-packages (from notebook->l5kit) (5.0.7)\n",
      "Requirement already satisfied: terminado>=0.8.3 in /usr/local/lib/python3.6/dist-packages (from notebook->l5kit) (0.8.3)\n",
      "Requirement already satisfied: ipykernel in /usr/local/lib/python3.6/dist-packages (from notebook->l5kit) (5.3.4)\n",
      "Requirement already satisfied: jinja2 in /home/user/.local/lib/python3.6/site-packages (from notebook->l5kit) (2.11.2)\n",
      "Requirement already satisfied: ipython>=4.0.0; python_version >= \"3.3\" in /usr/local/lib/python3.6/dist-packages (from ipywidgets->l5kit) (7.16.1)\n",
      "Requirement already satisfied: widgetsnbextension~=3.5.0 in /usr/local/lib/python3.6/dist-packages (from ipywidgets->l5kit) (3.5.1)\n",
      "Requirement already satisfied: kiwisolver>=1.0.1 in /usr/local/lib/python3.6/dist-packages (from matplotlib->l5kit) (1.0.1)\n",
      "Requirement already satisfied: cycler>=0.10 in /usr/local/lib/python3.6/dist-packages (from matplotlib->l5kit) (0.10.0)\n",
      "Requirement already satisfied: pyparsing!=2.0.4,!=2.1.2,!=2.1.6,>=2.0.1 in /usr/local/lib/python3.6/dist-packages (from matplotlib->l5kit) (2.2.2)\n",
      "Requirement already satisfied: python-dateutil>=2.1 in /home/user/.local/lib/python3.6/site-packages (from matplotlib->l5kit) (2.8.1)\n",
      "Requirement already satisfied: six>=1.9 in /home/user/.local/lib/python3.6/site-packages (from protobuf==3.12.2->l5kit) (1.15.0)\n",
      "Requirement already satisfied: future in /usr/local/lib/python3.6/dist-packages (from torch<1.6.0,>=1.5.0->l5kit) (0.18.2)\n",
      "Requirement already satisfied: asciitree in /home/user/.local/lib/python3.6/site-packages (from zarr->l5kit) (0.3.3)\n",
      "Requirement already satisfied: fasteners in /home/user/.local/lib/python3.6/site-packages (from zarr->l5kit) (0.15)\n",
      "Requirement already satisfied: numcodecs>=0.6.4 in /home/user/.local/lib/python3.6/site-packages (from zarr->l5kit) (0.7.2)\n",
      "Requirement already satisfied: defusedxml in /usr/local/lib/python3.6/dist-packages (from nbconvert->notebook->l5kit) (0.6.0)\n",
      "Requirement already satisfied: pygments in /usr/local/lib/python3.6/dist-packages (from nbconvert->notebook->l5kit) (2.6.1)\n",
      "Requirement already satisfied: mistune<2,>=0.8.1 in /usr/local/lib/python3.6/dist-packages (from nbconvert->notebook->l5kit) (0.8.4)\n",
      "Requirement already satisfied: testpath in /usr/local/lib/python3.6/dist-packages (from nbconvert->notebook->l5kit) (0.4.4)\n",
      "Requirement already satisfied: entrypoints>=0.2.2 in /home/user/.local/lib/python3.6/site-packages (from nbconvert->notebook->l5kit) (0.3)\n",
      "Requirement already satisfied: bleach in /usr/local/lib/python3.6/dist-packages (from nbconvert->notebook->l5kit) (3.1.5)\n",
      "Requirement already satisfied: pandocfilters>=1.4.1 in /usr/local/lib/python3.6/dist-packages (from nbconvert->notebook->l5kit) (1.4.2)\n",
      "Requirement already satisfied: decorator in /usr/local/lib/python3.6/dist-packages (from traitlets>=4.2.1->notebook->l5kit) (4.4.2)\n",
      "Requirement already satisfied: cffi>=1.0.0 in /home/user/.local/lib/python3.6/site-packages (from argon2-cffi->notebook->l5kit) (1.14.2)\n",
      "Requirement already satisfied: jsonschema!=2.5.0,>=2.4 in /usr/local/lib/python3.6/dist-packages (from nbformat->notebook->l5kit) (3.2.0)\n",
      "Requirement already satisfied: ptyprocess; os_name != \"nt\" in /usr/local/lib/python3.6/dist-packages (from terminado>=0.8.3->notebook->l5kit) (0.6.0)\n",
      "Requirement already satisfied: MarkupSafe>=0.23 in /home/user/.local/lib/python3.6/site-packages (from jinja2->notebook->l5kit) (1.1.1)\n",
      "Requirement already satisfied: pexpect; sys_platform != \"win32\" in /usr/local/lib/python3.6/dist-packages (from ipython>=4.0.0; python_version >= \"3.3\"->ipywidgets->l5kit) (4.8.0)\n",
      "Requirement already satisfied: pickleshare in /usr/local/lib/python3.6/dist-packages (from ipython>=4.0.0; python_version >= \"3.3\"->ipywidgets->l5kit) (0.7.5)\n",
      "Requirement already satisfied: backcall in /usr/local/lib/python3.6/dist-packages (from ipython>=4.0.0; python_version >= \"3.3\"->ipywidgets->l5kit) (0.2.0)\n",
      "Requirement already satisfied: prompt-toolkit!=3.0.0,!=3.0.1,<3.1.0,>=2.0.0 in /usr/local/lib/python3.6/dist-packages (from ipython>=4.0.0; python_version >= \"3.3\"->ipywidgets->l5kit) (3.0.6)\n",
      "Requirement already satisfied: jedi>=0.10 in /usr/local/lib/python3.6/dist-packages (from ipython>=4.0.0; python_version >= \"3.3\"->ipywidgets->l5kit) (0.17.2)\n",
      "Requirement already satisfied: monotonic>=0.1 in /home/user/.local/lib/python3.6/site-packages (from fasteners->zarr->l5kit) (1.5)\n",
      "Requirement already satisfied: packaging in /usr/local/lib/python3.6/dist-packages (from bleach->nbconvert->notebook->l5kit) (20.4)\n",
      "Requirement already satisfied: webencodings in /usr/local/lib/python3.6/dist-packages (from bleach->nbconvert->notebook->l5kit) (0.5.1)\n",
      "Requirement already satisfied: pycparser in /home/user/.local/lib/python3.6/site-packages (from cffi>=1.0.0->argon2-cffi->notebook->l5kit) (2.20)\n",
      "Requirement already satisfied: attrs>=17.4.0 in /usr/local/lib/python3.6/dist-packages (from jsonschema!=2.5.0,>=2.4->nbformat->notebook->l5kit) (20.1.0)\n",
      "Requirement already satisfied: pyrsistent>=0.14.0 in /usr/local/lib/python3.6/dist-packages (from jsonschema!=2.5.0,>=2.4->nbformat->notebook->l5kit) (0.16.0)\n",
      "Requirement already satisfied: importlib-metadata; python_version < \"3.8\" in /usr/local/lib/python3.6/dist-packages (from jsonschema!=2.5.0,>=2.4->nbformat->notebook->l5kit) (1.7.0)\n",
      "Requirement already satisfied: wcwidth in /usr/local/lib/python3.6/dist-packages (from prompt-toolkit!=3.0.0,!=3.0.1,<3.1.0,>=2.0.0->ipython>=4.0.0; python_version >= \"3.3\"->ipywidgets->l5kit) (0.2.5)\n",
      "Requirement already satisfied: parso<0.8.0,>=0.7.0 in /usr/local/lib/python3.6/dist-packages (from jedi>=0.10->ipython>=4.0.0; python_version >= \"3.3\"->ipywidgets->l5kit) (0.7.1)\n",
      "Requirement already satisfied: zipp>=0.5 in /usr/local/lib/python3.6/dist-packages (from importlib-metadata; python_version < \"3.8\"->jsonschema!=2.5.0,>=2.4->nbformat->notebook->l5kit) (3.1.0)\n",
      "\u001b[33mWARNING: You are using pip version 20.2.2; however, version 20.2.3 is available.\n",
      "You should consider upgrading via the '/usr/bin/python3 -m pip install --upgrade pip' command.\u001b[0m\n",
      "Defaulting to user installation because normal site-packages is not writeable\n",
      "Requirement already satisfied: zarr in /home/user/.local/lib/python3.6/site-packages (2.4.0)\n",
      "Requirement already satisfied: asciitree in /home/user/.local/lib/python3.6/site-packages (from zarr) (0.3.3)\n",
      "Requirement already satisfied: numpy>=1.7 in /home/user/.local/lib/python3.6/site-packages (from zarr) (1.19.2)\n",
      "Requirement already satisfied: numcodecs>=0.6.4 in /home/user/.local/lib/python3.6/site-packages (from zarr) (0.7.2)\n",
      "Requirement already satisfied: fasteners in /home/user/.local/lib/python3.6/site-packages (from zarr) (0.15)\n",
      "Requirement already satisfied: six in /home/user/.local/lib/python3.6/site-packages (from fasteners->zarr) (1.15.0)\n",
      "Requirement already satisfied: monotonic>=0.1 in /home/user/.local/lib/python3.6/site-packages (from fasteners->zarr) (1.5)\n",
      "\u001b[33mWARNING: You are using pip version 20.2.2; however, version 20.2.3 is available.\n",
      "You should consider upgrading via the '/usr/bin/python3 -m pip install --upgrade pip' command.\u001b[0m\n"
     ]
    }
   ],
   "source": [
    "!pip install l5kit\n",
    "!pip install zarr"
   ]
  },
  {
   "cell_type": "markdown",
   "metadata": {},
   "source": [
    "https://www.kaggle.com/kool777/lyft-level5-eda-training-inference\n",
    "\n",
    "↑参考　これがなきゃマジで死んでた，感謝…！"
   ]
  },
  {
   "cell_type": "code",
   "execution_count": 10,
   "metadata": {},
   "outputs": [],
   "source": [
    "from pathlib import Path\n",
    "import pandas as pd\n",
    "import numpy as np\n",
    "import os\n",
    "os.environ[\"L5KIT_DATA_FOLDER\"] = '/home/knikaido/work/Lyft/data/lyft-motion-prediction-autonomous-vehicles'\n",
    "import zarr\n",
    "from prettytable import PrettyTable\n",
    "\n",
    "from l5kit.data import PERCEPTION_LABELS\n",
    "from l5kit.rasterization import build_rasterizer\n",
    "from l5kit.configs import load_config_data\n",
    "from l5kit.visualization import draw_trajectory, TARGET_POINTS_COLOR\n",
    "from l5kit.geometry import transform_points\n",
    "from l5kit.data import ChunkedDataset, LocalDataManager\n",
    "from l5kit.dataset import EgoDataset, AgentDataset"
   ]
  },
  {
   "cell_type": "code",
   "execution_count": 11,
   "metadata": {},
   "outputs": [],
   "source": [
    "INPUT_ROOT = Path('/home/knikaido/work/Lyft/data/')\n",
    "SAMPLE_ZARR = INPUT_ROOT / 'lyft-motion-prediction-autonomous-vehicles/scenes/sample.zarr'\n",
    "\n",
    "cfg = load_config_data(str(INPUT_ROOT / \"lyft-config-files/visualisation_config.yaml\"))"
   ]
  },
  {
   "cell_type": "code",
   "execution_count": null,
   "metadata": {},
   "outputs": [],
   "source": []
  },
  {
   "cell_type": "code",
   "execution_count": 12,
   "metadata": {},
   "outputs": [],
   "source": [
    "sample_zarr = zarr.open(str(SAMPLE_ZARR))"
   ]
  },
  {
   "cell_type": "code",
   "execution_count": 13,
   "metadata": {},
   "outputs": [
    {
     "data": {
      "text/html": [
       "<table class=\"zarr-info\"><tbody><tr><th style=\"text-align: left\">Name</th><td style=\"text-align: left\">/</td></tr><tr><th style=\"text-align: left\">Type</th><td style=\"text-align: left\">zarr.hierarchy.Group</td></tr><tr><th style=\"text-align: left\">Read-only</th><td style=\"text-align: left\">False</td></tr><tr><th style=\"text-align: left\">Store type</th><td style=\"text-align: left\">zarr.storage.DirectoryStore</td></tr><tr><th style=\"text-align: left\">No. members</th><td style=\"text-align: left\">5</td></tr><tr><th style=\"text-align: left\">No. arrays</th><td style=\"text-align: left\">4</td></tr><tr><th style=\"text-align: left\">No. groups</th><td style=\"text-align: left\">1</td></tr><tr><th style=\"text-align: left\">Arrays</th><td style=\"text-align: left\">agents, frames, scenes, traffic_light_faces</td></tr><tr><th style=\"text-align: left\">Groups</th><td style=\"text-align: left\">agents_mask</td></tr></tbody></table>"
      ],
      "text/plain": [
       "Name        : /\n",
       "Type        : zarr.hierarchy.Group\n",
       "Read-only   : False\n",
       "Store type  : zarr.storage.DirectoryStore\n",
       "No. members : 5\n",
       "No. arrays  : 4\n",
       "No. groups  : 1\n",
       "Arrays      : agents, frames, scenes, traffic_light_faces\n",
       "Groups      : agents_mask"
      ]
     },
     "execution_count": 13,
     "metadata": {},
     "output_type": "execute_result"
    }
   ],
   "source": [
    "sample_zarr.info"
   ]
  },
  {
   "cell_type": "code",
   "execution_count": null,
   "metadata": {},
   "outputs": [],
   "source": []
  },
  {
   "cell_type": "code",
   "execution_count": null,
   "metadata": {},
   "outputs": [],
   "source": []
  },
  {
   "cell_type": "code",
   "execution_count": 14,
   "metadata": {},
   "outputs": [
    {
     "name": "stdout",
     "output_type": "stream",
     "text": [
      "+------------+------------+------------+-----------------+----------------------+----------------------+----------------------+---------------------+\n",
      "| Num Scenes | Num Frames | Num Agents | Total Time (hr) | Avg Frames per Scene | Avg Agents per Frame | Avg Scene Time (sec) | Avg Frame frequency |\n",
      "+------------+------------+------------+-----------------+----------------------+----------------------+----------------------+---------------------+\n",
      "|    100     |   24838    |  1893736   |       0.69      |        248.38        |        76.24         |        24.83         |        10.00        |\n",
      "+------------+------------+------------+-----------------+----------------------+----------------------+----------------------+---------------------+\n"
     ]
    }
   ],
   "source": [
    "dm = LocalDataManager()\n",
    "dataset_path = dm.require(cfg[\"val_data_loader\"][\"key\"])\n",
    "zarr_dataset = ChunkedDataset(dataset_path)\n",
    "zarr_dataset.open()\n",
    "print(zarr_dataset)"
   ]
  },
  {
   "cell_type": "code",
   "execution_count": 15,
   "metadata": {},
   "outputs": [
    {
     "name": "stdout",
     "output_type": "stream",
     "text": [
      "/home/knikaido/work/Lyft/data/lyft-motion-prediction-autonomous-vehicles/scenes/sample.zarr\n"
     ]
    }
   ],
   "source": [
    "print(dataset_path)"
   ]
  },
  {
   "cell_type": "code",
   "execution_count": 16,
   "metadata": {},
   "outputs": [
    {
     "data": {
      "text/html": [
       "<div>\n",
       "<style scoped>\n",
       "    .dataframe tbody tr th:only-of-type {\n",
       "        vertical-align: middle;\n",
       "    }\n",
       "\n",
       "    .dataframe tbody tr th {\n",
       "        vertical-align: top;\n",
       "    }\n",
       "\n",
       "    .dataframe thead th {\n",
       "        text-align: right;\n",
       "    }\n",
       "</style>\n",
       "<table border=\"1\" class=\"dataframe\">\n",
       "  <thead>\n",
       "    <tr style=\"text-align: right;\">\n",
       "      <th></th>\n",
       "      <th>yaw</th>\n",
       "      <th>track_id</th>\n",
       "      <th>label_probabilities</th>\n",
       "      <th>centroid_x</th>\n",
       "      <th>centroid_y</th>\n",
       "      <th>extent_x</th>\n",
       "      <th>extent_y</th>\n",
       "      <th>extent_z</th>\n",
       "      <th>velocity_x</th>\n",
       "      <th>velocity_y</th>\n",
       "    </tr>\n",
       "  </thead>\n",
       "  <tbody>\n",
       "    <tr>\n",
       "      <th>0</th>\n",
       "      <td>1.016675</td>\n",
       "      <td>1</td>\n",
       "      <td>[0.0, 0.0, 0.0, 1.0, 0.0, 0.0, 0.0, 0.0, 0.0, ...</td>\n",
       "      <td>665.034241</td>\n",
       "      <td>-2207.512207</td>\n",
       "      <td>4.391328</td>\n",
       "      <td>1.813830</td>\n",
       "      <td>1.590976</td>\n",
       "      <td>0.0</td>\n",
       "      <td>0.0</td>\n",
       "    </tr>\n",
       "    <tr>\n",
       "      <th>1</th>\n",
       "      <td>-0.783224</td>\n",
       "      <td>2</td>\n",
       "      <td>[0.0, 0.0, 0.0, 1.0, 0.0, 0.0, 0.0, 0.0, 0.0, ...</td>\n",
       "      <td>717.661255</td>\n",
       "      <td>-2173.760010</td>\n",
       "      <td>5.150925</td>\n",
       "      <td>1.953092</td>\n",
       "      <td>2.040210</td>\n",
       "      <td>0.0</td>\n",
       "      <td>0.0</td>\n",
       "    </tr>\n",
       "    <tr>\n",
       "      <th>2</th>\n",
       "      <td>-0.321747</td>\n",
       "      <td>3</td>\n",
       "      <td>[0.0, 0.0, 0.0, 1.0, 0.0, 0.0, 0.0, 0.0, 0.0, ...</td>\n",
       "      <td>730.681396</td>\n",
       "      <td>-2180.678955</td>\n",
       "      <td>2.948282</td>\n",
       "      <td>1.484217</td>\n",
       "      <td>1.112507</td>\n",
       "      <td>0.0</td>\n",
       "      <td>0.0</td>\n",
       "    </tr>\n",
       "    <tr>\n",
       "      <th>3</th>\n",
       "      <td>0.785501</td>\n",
       "      <td>4</td>\n",
       "      <td>[0.0, 1.0, 0.0, 0.0, 0.0, 0.0, 0.0, 0.0, 0.0, ...</td>\n",
       "      <td>671.253601</td>\n",
       "      <td>-2204.745361</td>\n",
       "      <td>1.706702</td>\n",
       "      <td>0.928787</td>\n",
       "      <td>0.628216</td>\n",
       "      <td>0.0</td>\n",
       "      <td>0.0</td>\n",
       "    </tr>\n",
       "    <tr>\n",
       "      <th>4</th>\n",
       "      <td>1.492359</td>\n",
       "      <td>5</td>\n",
       "      <td>[0.0, 1.0, 0.0, 0.0, 0.0, 0.0, 0.0, 0.0, 0.0, ...</td>\n",
       "      <td>669.776306</td>\n",
       "      <td>-2213.004639</td>\n",
       "      <td>0.251099</td>\n",
       "      <td>0.634378</td>\n",
       "      <td>1.654377</td>\n",
       "      <td>0.0</td>\n",
       "      <td>0.0</td>\n",
       "    </tr>\n",
       "  </tbody>\n",
       "</table>\n",
       "</div>"
      ],
      "text/plain": [
       "        yaw  track_id                                label_probabilities  \\\n",
       "0  1.016675         1  [0.0, 0.0, 0.0, 1.0, 0.0, 0.0, 0.0, 0.0, 0.0, ...   \n",
       "1 -0.783224         2  [0.0, 0.0, 0.0, 1.0, 0.0, 0.0, 0.0, 0.0, 0.0, ...   \n",
       "2 -0.321747         3  [0.0, 0.0, 0.0, 1.0, 0.0, 0.0, 0.0, 0.0, 0.0, ...   \n",
       "3  0.785501         4  [0.0, 1.0, 0.0, 0.0, 0.0, 0.0, 0.0, 0.0, 0.0, ...   \n",
       "4  1.492359         5  [0.0, 1.0, 0.0, 0.0, 0.0, 0.0, 0.0, 0.0, 0.0, ...   \n",
       "\n",
       "   centroid_x   centroid_y  extent_x  extent_y  extent_z  velocity_x  \\\n",
       "0  665.034241 -2207.512207  4.391328  1.813830  1.590976         0.0   \n",
       "1  717.661255 -2173.760010  5.150925  1.953092  2.040210         0.0   \n",
       "2  730.681396 -2180.678955  2.948282  1.484217  1.112507         0.0   \n",
       "3  671.253601 -2204.745361  1.706702  0.928787  0.628216         0.0   \n",
       "4  669.776306 -2213.004639  0.251099  0.634378  1.654377         0.0   \n",
       "\n",
       "   velocity_y  \n",
       "0         0.0  \n",
       "1         0.0  \n",
       "2         0.0  \n",
       "3         0.0  \n",
       "4         0.0  "
      ]
     },
     "execution_count": 16,
     "metadata": {},
     "output_type": "execute_result"
    }
   ],
   "source": [
    "agents = pd.DataFrame.from_records(zarr_dataset.agents, columns = ['centroid', 'extent', 'yaw', 'velocity', 'track_id', 'label_probabilities'])\n",
    "agents[['centroid_x','centroid_y']] = agents['centroid'].to_list()\n",
    "agents = agents.drop('centroid', axis=1)\n",
    "agents[['extent_x','extent_y', 'extent_z']] = agents['extent'].to_list()\n",
    "agents = agents.drop('extent', axis=1)\n",
    "agents[['velocity_x','velocity_y']] = agents['velocity'].to_list()\n",
    "agents = agents.drop('velocity', axis=1)\n",
    "agents.head()"
   ]
  },
  {
   "cell_type": "markdown",
   "metadata": {},
   "source": [
    "__やっっっっとzarrの中身見ることができた！！！！__\n",
    "\n",
    "とりあえず，agentの中身を見れた．<br>\n",
    "extentは，大きさ的なことみたい．"
   ]
  },
  {
   "cell_type": "code",
   "execution_count": 17,
   "metadata": {},
   "outputs": [
    {
     "name": "stdout",
     "output_type": "stream",
     "text": [
      "+------------------------------------+---------+\n",
      "|               label                |  counts |\n",
      "+------------------------------------+---------+\n",
      "|      PERCEPTION_LABEL_NOT_SET      |    0    |\n",
      "|      PERCEPTION_LABEL_UNKNOWN      | 1324481 |\n",
      "|     PERCEPTION_LABEL_DONTCARE      |    0    |\n",
      "|        PERCEPTION_LABEL_CAR        |  519385 |\n",
      "|        PERCEPTION_LABEL_VAN        |    0    |\n",
      "|       PERCEPTION_LABEL_TRAM        |    0    |\n",
      "|        PERCEPTION_LABEL_BUS        |    0    |\n",
      "|       PERCEPTION_LABEL_TRUCK       |    0    |\n",
      "| PERCEPTION_LABEL_EMERGENCY_VEHICLE |    0    |\n",
      "|   PERCEPTION_LABEL_OTHER_VEHICLE   |    0    |\n",
      "|      PERCEPTION_LABEL_BICYCLE      |    0    |\n",
      "|    PERCEPTION_LABEL_MOTORCYCLE     |    0    |\n",
      "|      PERCEPTION_LABEL_CYCLIST      |   6688  |\n",
      "|   PERCEPTION_LABEL_MOTORCYCLIST    |    0    |\n",
      "|    PERCEPTION_LABEL_PEDESTRIAN     |  43182  |\n",
      "|      PERCEPTION_LABEL_ANIMAL       |    0    |\n",
      "|     AVRESEARCH_LABEL_DONTCARE      |    0    |\n",
      "+------------------------------------+---------+\n"
     ]
    }
   ],
   "source": [
    "agents = zarr_dataset.agents\n",
    "probabilities = agents[\"label_probabilities\"]\n",
    "labels_indexes = np.argmax(probabilities, axis=1)\n",
    "counts = []\n",
    "for idx_label, label in enumerate(PERCEPTION_LABELS):\n",
    "    counts.append(np.sum(labels_indexes == idx_label))\n",
    "    \n",
    "table = PrettyTable(field_names=[\"label\", \"counts\"])\n",
    "for count, label in zip(counts, PERCEPTION_LABELS):\n",
    "    table.add_row([label, count])\n",
    "print(table)"
   ]
  },
  {
   "cell_type": "markdown",
   "metadata": {},
   "source": [
    "__ラベルは，実際三種+不明しかない．不明のデータ数がめっっっっちゃおおい．__"
   ]
  },
  {
   "cell_type": "code",
   "execution_count": null,
   "metadata": {},
   "outputs": [],
   "source": []
  }
 ],
 "metadata": {
  "kernelspec": {
   "display_name": "Python 3",
   "language": "python",
   "name": "python3"
  },
  "language_info": {
   "codemirror_mode": {
    "name": "ipython",
    "version": 3
   },
   "file_extension": ".py",
   "mimetype": "text/x-python",
   "name": "python",
   "nbconvert_exporter": "python",
   "pygments_lexer": "ipython3",
   "version": "3.6.12"
  }
 },
 "nbformat": 4,
 "nbformat_minor": 4
}
