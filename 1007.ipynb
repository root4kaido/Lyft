{
 "cells": [
  {
   "cell_type": "code",
   "execution_count": 1,
   "metadata": {},
   "outputs": [],
   "source": [
    "import numpy as np\n",
    "import os\n",
    "import torch\n",
    "\n",
    "from torch import nn, optim\n",
    "from torch.utils.data import DataLoader\n",
    "# from torchvision.models.resnet import resnet18\n",
    "from tqdm import tqdm\n",
    "from typing import Dict\n",
    "from pathlib import Path\n",
    "\n",
    "\n",
    "from l5kit.data import LocalDataManager, ChunkedDataset\n",
    "from l5kit.dataset import AgentDataset, EgoDataset\n",
    "from l5kit.evaluation import write_pred_csv, chop_dataset\n",
    "from l5kit.rasterization import build_rasterizer\n",
    "from l5kit.rasterization import build_rasterizer\n",
    "\n",
    "from torchvision.models.resnet import resnet18, resnet50, resnet34"
   ]
  },
  {
   "cell_type": "code",
   "execution_count": 2,
   "metadata": {},
   "outputs": [],
   "source": [
    "train_dir = '/home/knikaido/work/Lyft/data/lyft-motion-prediction-autonomous-vehicles/scenes/train.zarr'"
   ]
  },
  {
   "cell_type": "code",
   "execution_count": 3,
   "metadata": {},
   "outputs": [
    {
     "name": "stderr",
     "output_type": "stream",
     "text": [
      "/home/user/.local/lib/python3.6/site-packages/l5kit/data/zarr_utils.py:243: RuntimeWarning: zarr dataset path doesn't exist. Open will fail for this dataset!\n",
      "  output_dataset = ChunkedDataset(output_zarr)\n",
      "copying: 100%|██████████| 16265/16265 [10:36<00:00, 25.55it/s]\n",
      "/home/user/.local/lib/python3.6/site-packages/l5kit/evaluation/extract_ground_truth.py:59: RuntimeWarning: you're running with a custom agents_mask\n",
      "  dataset = AgentDataset(cfg=cfg, zarr_dataset=zarr_dataset, rasterizer=rasterizer, agents_mask=agents_mask)\n",
      "extracting GT: 100%|██████████| 98295/98295 [18:59<00:00, 86.27it/s]\n"
     ]
    },
    {
     "data": {
      "text/plain": [
       "'/home/knikaido/work/Lyft/data/lyft-motion-prediction-autonomous-vehicles/scenes/train_chopped_100'"
      ]
     },
     "execution_count": 3,
     "metadata": {},
     "output_type": "execute_result"
    }
   ],
   "source": [
    "chop_dataset.create_chopped_dataset(zarr_path=train_dir, th_agent_prob=0.5, num_frames_to_copy=100, num_frames_gt=50, min_frame_future=10)"
   ]
  },
  {
   "cell_type": "code",
   "execution_count": null,
   "metadata": {},
   "outputs": [],
   "source": []
  }
 ],
 "metadata": {
  "kernelspec": {
   "display_name": "Python 3",
   "language": "python",
   "name": "python3"
  },
  "language_info": {
   "codemirror_mode": {
    "name": "ipython",
    "version": 3
   },
   "file_extension": ".py",
   "mimetype": "text/x-python",
   "name": "python",
   "nbconvert_exporter": "python",
   "pygments_lexer": "ipython3",
   "version": "3.6.12"
  }
 },
 "nbformat": 4,
 "nbformat_minor": 4
}
