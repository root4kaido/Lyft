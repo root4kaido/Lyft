{
 "cells": [
  {
   "cell_type": "markdown",
   "metadata": {
    "_cell_guid": "79c7e3d0-c299-4dcb-8224-4455121ee9b0",
    "_uuid": "d629ff2d2480ee46fbb7e2d37f6b5fab8052498a",
    "papermill": {
     "duration": 0.012103,
     "end_time": "2020-09-29T01:20:20.764473",
     "exception": false,
     "start_time": "2020-09-29T01:20:20.752370",
     "status": "completed"
    },
    "tags": []
   },
   "source": [
    "# Pytorch Baseline - Inference\n",
    "\n"
   ]
  },
  {
   "cell_type": "code",
   "execution_count": 18,
   "metadata": {},
   "outputs": [
    {
     "data": {
      "text/plain": [
       "array([0, 2, 4, 6])"
      ]
     },
     "execution_count": 18,
     "metadata": {},
     "output_type": "execute_result"
    }
   ],
   "source": []
  },
  {
   "cell_type": "code",
   "execution_count": 1,
   "metadata": {},
   "outputs": [
    {
     "name": "stdout",
     "output_type": "stream",
     "text": [
      "l5kit @ file:///home/knikaido/work/Lyft/Git/external/l5kit/l5kit\n"
     ]
    }
   ],
   "source": [
    "!pip freeze | grep l5"
   ]
  },
  {
   "cell_type": "code",
   "execution_count": 1,
   "metadata": {
    "execution": {
     "iopub.execute_input": "2020-09-29T01:20:20.801391Z",
     "iopub.status.busy": "2020-09-29T01:20:20.800403Z",
     "iopub.status.idle": "2020-09-29T01:21:04.950083Z",
     "shell.execute_reply": "2020-09-29T01:21:04.948912Z"
    },
    "papermill": {
     "duration": 44.174321,
     "end_time": "2020-09-29T01:21:04.950217",
     "exception": false,
     "start_time": "2020-09-29T01:20:20.775896",
     "status": "completed"
    },
    "tags": []
   },
   "outputs": [],
   "source": [
    "import numpy as np\n",
    "import os\n",
    "import torch\n",
    "\n",
    "from torch import nn, optim\n",
    "from torch.utils.data import DataLoader\n",
    "# from torchvision.models.resnet import resnet18\n",
    "from tqdm import tqdm\n",
    "from typing import Dict\n",
    "from pathlib import Path\n",
    "\n",
    "\n",
    "from l5kit.data import LocalDataManager, ChunkedDataset\n",
    "from l5kit.dataset import AgentDataset, EgoDataset\n",
    "from l5kit.evaluation import write_pred_csv\n",
    "from l5kit.rasterization import build_rasterizer\n",
    "from l5kit.geometry import transform_points\n",
    "\n",
    "from torchvision.models.resnet import resnet18, resnet50, resnet34"
   ]
  },
  {
   "cell_type": "code",
   "execution_count": 2,
   "metadata": {},
   "outputs": [],
   "source": [
    "common_cfg = {\n",
    "    'seed': 500,\n",
    "    'output_dir': './outputs/1008_inference/',\n",
    "}\n",
    "\n",
    "cfg = {\n",
    "    'format_version': 4,\n",
    "    'model_params': {\n",
    "        'history_num_frames': 10,\n",
    "        'history_step_size': 1,\n",
    "        'history_delta_time': 0.1,\n",
    "        'future_num_frames': 50,\n",
    "        'future_step_size': 1,\n",
    "        'future_delta_time': 0.1\n",
    "    },\n",
    "    \n",
    "    'raster_params': {\n",
    "        'raster_size': [224, 224],\n",
    "        'pixel_size': [0.75, 0.75],\n",
    "        'ego_center': [0.25, 0.5],\n",
    "        'map_type': 'py_semantic',\n",
    "        'satellite_map_key': 'aerial_map/aerial_map.png',\n",
    "        'semantic_map_key': 'semantic_map/semantic_map.pb',\n",
    "        'dataset_meta_key': 'meta.json',\n",
    "        'filter_agents_threshold': 0.5\n",
    "    },\n",
    "    \n",
    "    'test_data_loader': {\n",
    "        'key': 'scenes/test.zarr',\n",
    "        'batch_size': 32,\n",
    "        'shuffle': False,\n",
    "        'num_workers': 0\n",
    "    }\n",
    "\n",
    "}\n"
   ]
  },
  {
   "cell_type": "code",
   "execution_count": 3,
   "metadata": {
    "execution": {
     "iopub.execute_input": "2020-09-29T01:21:04.977260Z",
     "iopub.status.busy": "2020-09-29T01:21:04.976155Z",
     "iopub.status.idle": "2020-09-29T01:21:04.978663Z",
     "shell.execute_reply": "2020-09-29T01:21:04.979176Z"
    },
    "papermill": {
     "duration": 0.017974,
     "end_time": "2020-09-29T01:21:04.979337",
     "exception": false,
     "start_time": "2020-09-29T01:21:04.961363",
     "status": "completed"
    },
    "tags": []
   },
   "outputs": [],
   "source": [
    "OUTPUT_DIR = common_cfg['output_dir']\n",
    "INPUT_ROOT = Path('/home/knikaido/work/Lyft/data/')\n",
    "DIR_INPUT = str(INPUT_ROOT / 'lyft-motion-prediction-autonomous-vehicles/')\n",
    "\n",
    "# DIR_INPUT = \"/kaggle/input/lyft-motion-prediction-autonomous-vehicles\"\n",
    "\n",
    "SINGLE_MODE_SUBMISSION = f\"{DIR_INPUT}/single_mode_sample_submission.csv\"\n",
    "MULTI_MODE_SUBMISSION = f\"{DIR_INPUT}/multi_mode_sample_submission.csv\"\n",
    "\n",
    "# Training notebook's output.\n",
    "# WEIGHT_FILE = \"/kaggle/input/lyft-weights-private/exp_2229__iter_25000.pth\""
   ]
  },
  {
   "cell_type": "code",
   "execution_count": 4,
   "metadata": {
    "execution": {
     "iopub.execute_input": "2020-09-29T01:21:05.010013Z",
     "iopub.status.busy": "2020-09-29T01:21:05.009064Z",
     "iopub.status.idle": "2020-09-29T01:21:05.012455Z",
     "shell.execute_reply": "2020-09-29T01:21:05.011748Z"
    },
    "papermill": {
     "duration": 0.022649,
     "end_time": "2020-09-29T01:21:05.012573",
     "exception": false,
     "start_time": "2020-09-29T01:21:04.989924",
     "status": "completed"
    },
    "tags": []
   },
   "outputs": [],
   "source": [
    "test_mask = np.load(f\"{DIR_INPUT}/scenes/mask.npz\")[\"arr_0\"]"
   ]
  },
  {
   "cell_type": "code",
   "execution_count": 5,
   "metadata": {},
   "outputs": [
    {
     "data": {
      "text/plain": [
       "array([False, False, False, ..., False, False, False])"
      ]
     },
     "execution_count": 5,
     "metadata": {},
     "output_type": "execute_result"
    }
   ],
   "source": [
    "test_mask"
   ]
  },
  {
   "cell_type": "code",
   "execution_count": 6,
   "metadata": {
    "execution": {
     "iopub.execute_input": "2020-09-29T01:21:05.040647Z",
     "iopub.status.busy": "2020-09-29T01:21:05.039621Z",
     "iopub.status.idle": "2020-09-29T01:21:05.042784Z",
     "shell.execute_reply": "2020-09-29T01:21:05.042211Z"
    },
    "papermill": {
     "duration": 0.019055,
     "end_time": "2020-09-29T01:21:05.042891",
     "exception": false,
     "start_time": "2020-09-29T01:21:05.023836",
     "status": "completed"
    },
    "tags": []
   },
   "outputs": [],
   "source": [
    "# set env variable for data\n",
    "os.environ[\"L5KIT_DATA_FOLDER\"] = DIR_INPUT\n",
    "dm = LocalDataManager(None)"
   ]
  },
  {
   "cell_type": "markdown",
   "metadata": {
    "papermill": {
     "duration": 0.01073,
     "end_time": "2020-09-29T01:21:05.064508",
     "exception": false,
     "start_time": "2020-09-29T01:21:05.053778",
     "status": "completed"
    },
    "tags": []
   },
   "source": [
    "## Dataset, dataloader"
   ]
  },
  {
   "cell_type": "code",
   "execution_count": 9,
   "metadata": {
    "execution": {
     "iopub.execute_input": "2020-09-29T01:21:05.095105Z",
     "iopub.status.busy": "2020-09-29T01:21:05.094229Z",
     "iopub.status.idle": "2020-09-29T01:21:13.521146Z",
     "shell.execute_reply": "2020-09-29T01:21:13.521954Z"
    },
    "papermill": {
     "duration": 8.446579,
     "end_time": "2020-09-29T01:21:13.522157",
     "exception": false,
     "start_time": "2020-09-29T01:21:05.075578",
     "status": "completed"
    },
    "tags": []
   },
   "outputs": [
    {
     "name": "stderr",
     "output_type": "stream",
     "text": [
      "/usr/local/lib/python3.6/dist-packages/ipykernel_launcher.py:10: RuntimeWarning: you're running with a custom agents_mask\n",
      "  # Remove the CWD from sys.path while we load stuff.\n"
     ]
    },
    {
     "name": "stdout",
     "output_type": "stream",
     "text": [
      "+------------+------------+------------+---------------+-----------------+----------------------+----------------------+----------------------+---------------------+\n",
      "| Num Scenes | Num Frames | Num Agents | Num TR lights | Total Time (hr) | Avg Frames per Scene | Avg Agents per Frame | Avg Scene Time (sec) | Avg Frame frequency |\n",
      "+------------+------------+------------+---------------+-----------------+----------------------+----------------------+----------------------+---------------------+\n",
      "|   11314    |  1131400   |  88594921  |    7854144    |      31.43      |        100.00        |        78.31         |        10.00         |        10.00        |\n",
      "+------------+------------+------------+---------------+-----------------+----------------------+----------------------+----------------------+---------------------+\n"
     ]
    }
   ],
   "source": [
    "# ===== INIT DATASET\n",
    "test_cfg = cfg[\"test_data_loader\"]\n",
    "\n",
    "# Rasterizer\n",
    "rasterizer = build_rasterizer(cfg, dm)\n",
    "\n",
    "# Test dataset/dataloader\n",
    "test_zarr = ChunkedDataset(dm.require(test_cfg[\"key\"])).open()\n",
    "test_mask = np.load(f\"{DIR_INPUT}/scenes/mask.npz\")[\"arr_0\"]\n",
    "test_dataset = AgentDataset(cfg, test_zarr, rasterizer, agents_mask=test_mask)\n",
    "test_dataloader = DataLoader(test_dataset,\n",
    "                             shuffle=test_cfg[\"shuffle\"],\n",
    "                             batch_size=test_cfg[\"batch_size\"],\n",
    "                             num_workers=test_cfg[\"num_workers\"])\n",
    "\n",
    "\n",
    "print(test_dataset)"
   ]
  },
  {
   "cell_type": "markdown",
   "metadata": {
    "papermill": {
     "duration": 0.01312,
     "end_time": "2020-09-29T01:21:13.549154",
     "exception": false,
     "start_time": "2020-09-29T01:21:13.536034",
     "status": "completed"
    },
    "tags": []
   },
   "source": [
    "## Model"
   ]
  },
  {
   "cell_type": "code",
   "execution_count": 6,
   "metadata": {},
   "outputs": [],
   "source": [
    "# data = test_dataset[0]\n",
    "# data['target_positions']"
   ]
  },
  {
   "cell_type": "code",
   "execution_count": 7,
   "metadata": {
    "execution": {
     "iopub.execute_input": "2020-09-29T01:21:13.595608Z",
     "iopub.status.busy": "2020-09-29T01:21:13.588175Z",
     "iopub.status.idle": "2020-09-29T01:21:13.598754Z",
     "shell.execute_reply": "2020-09-29T01:21:13.598161Z"
    },
    "papermill": {
     "duration": 0.037123,
     "end_time": "2020-09-29T01:21:13.598860",
     "exception": false,
     "start_time": "2020-09-29T01:21:13.561737",
     "status": "completed"
    },
    "tags": []
   },
   "outputs": [],
   "source": [
    "class LyftMultiModel(nn.Module):\n",
    "\n",
    "    def __init__(self, cfg: Dict, num_modes=3):\n",
    "        super().__init__()\n",
    "\n",
    "        # TODO: support other than resnet18?\n",
    "        backbone = resnet34(pretrained=True, progress=True)\n",
    "        self.backbone = backbone\n",
    "\n",
    "        num_history_channels = (cfg[\"model_params\"][\"history_num_frames\"] + 1) * 2\n",
    "        num_in_channels = 3 + num_history_channels\n",
    "\n",
    "        self.backbone.conv1 = nn.Conv2d(\n",
    "            num_in_channels,\n",
    "            self.backbone.conv1.out_channels,\n",
    "            kernel_size=self.backbone.conv1.kernel_size,\n",
    "            stride=self.backbone.conv1.stride,\n",
    "            padding=self.backbone.conv1.padding,\n",
    "            bias=False,\n",
    "        )\n",
    "\n",
    "        # This is 512 for resnet18 and resnet34;\n",
    "        # And it is 2048 for the other resnets\n",
    "        backbone_out_features = 512\n",
    "\n",
    "        # X, Y coords for the future positions (output shape: Bx50x2)\n",
    "        self.future_len = cfg[\"model_params\"][\"future_num_frames\"]\n",
    "        num_targets = 2 * self.future_len\n",
    "\n",
    "        # You can add more layers here.\n",
    "        self.head = nn.Sequential(\n",
    "            # nn.Dropout(0.2),\n",
    "            nn.Linear(in_features=backbone_out_features, out_features=4096),\n",
    "        )\n",
    "\n",
    "        self.num_preds = num_targets * num_modes\n",
    "        self.num_modes = num_modes\n",
    "\n",
    "        self.logit = nn.Linear(4096, out_features=self.num_preds + num_modes)\n",
    "\n",
    "    def forward(self, x):\n",
    "        x = self.backbone.conv1(x)\n",
    "        x = self.backbone.bn1(x)\n",
    "        x = self.backbone.relu(x)\n",
    "        x = self.backbone.maxpool(x)\n",
    "\n",
    "        x = self.backbone.layer1(x)\n",
    "        x = self.backbone.layer2(x)\n",
    "        x = self.backbone.layer3(x)\n",
    "        x = self.backbone.layer4(x)\n",
    "\n",
    "        x = self.backbone.avgpool(x)\n",
    "        x = torch.flatten(x, 1)\n",
    "\n",
    "        x = self.head(x)\n",
    "        x = self.logit(x)\n",
    "\n",
    "        # pred (bs)x(modes)x(time)x(2D coords)\n",
    "        # confidences (bs)x(modes)\n",
    "        bs, _ = x.shape\n",
    "        pred, confidences = torch.split(x, self.num_preds, dim=1)\n",
    "        pred = pred.view(bs, self.num_modes, self.future_len, 2)\n",
    "        assert confidences.shape == (bs, self.num_modes)\n",
    "        confidences = torch.softmax(confidences, dim=1)\n",
    "        return pred, confidences"
   ]
  },
  {
   "cell_type": "code",
   "execution_count": 8,
   "metadata": {
    "execution": {
     "iopub.execute_input": "2020-09-29T01:21:13.980651Z",
     "iopub.status.busy": "2020-09-29T01:21:13.979907Z",
     "iopub.status.idle": "2020-09-29T01:21:19.871371Z",
     "shell.execute_reply": "2020-09-29T01:21:19.870498Z"
    },
    "papermill": {
     "duration": 6.260458,
     "end_time": "2020-09-29T01:21:19.871586",
     "exception": false,
     "start_time": "2020-09-29T01:21:13.611128",
     "status": "completed"
    },
    "tags": []
   },
   "outputs": [
    {
     "data": {
      "text/plain": [
       "<All keys matched successfully>"
      ]
     },
     "execution_count": 8,
     "metadata": {},
     "output_type": "execute_result"
    }
   ],
   "source": [
    "# ==== INIT MODEL\n",
    "device = torch.device(\"cuda:0\" if torch.cuda.is_available() else \"cpu\")\n",
    "model = LyftMultiModel(cfg)\n",
    "model.to(device)\n",
    "\n",
    "model.load_state_dict(torch.load('./outputs/1006_3/model'))\n",
    "# model.load_state_dict(torch.load('/kaggle/input/0929model/model'))"
   ]
  },
  {
   "cell_type": "code",
   "execution_count": 9,
   "metadata": {
    "execution": {
     "iopub.execute_input": "2020-09-29T01:21:19.902579Z",
     "iopub.status.busy": "2020-09-29T01:21:19.901906Z",
     "iopub.status.idle": "2020-09-29T01:21:19.908495Z",
     "shell.execute_reply": "2020-09-29T01:21:19.907871Z"
    },
    "papermill": {
     "duration": 0.023552,
     "end_time": "2020-09-29T01:21:19.908624",
     "exception": false,
     "start_time": "2020-09-29T01:21:19.885072",
     "status": "completed"
    },
    "tags": []
   },
   "outputs": [
    {
     "data": {
      "text/plain": [
       "device(type='cuda', index=0)"
      ]
     },
     "execution_count": 9,
     "metadata": {},
     "output_type": "execute_result"
    }
   ],
   "source": [
    "device"
   ]
  },
  {
   "cell_type": "markdown",
   "metadata": {
    "papermill": {
     "duration": 0.013478,
     "end_time": "2020-09-29T01:21:19.935766",
     "exception": false,
     "start_time": "2020-09-29T01:21:19.922288",
     "status": "completed"
    },
    "tags": []
   },
   "source": [
    "## Predicting"
   ]
  },
  {
   "cell_type": "code",
   "execution_count": 10,
   "metadata": {
    "execution": {
     "iopub.execute_input": "2020-09-29T01:21:19.977425Z",
     "iopub.status.busy": "2020-09-29T01:21:19.976644Z",
     "iopub.status.idle": "2020-09-29T03:10:50.977245Z",
     "shell.execute_reply": "2020-09-29T03:10:50.976699Z"
    },
    "papermill": {
     "duration": 6571.028065,
     "end_time": "2020-09-29T03:10:50.977387",
     "exception": false,
     "start_time": "2020-09-29T01:21:19.949322",
     "status": "completed"
    },
    "tags": []
   },
   "outputs": [
    {
     "name": "stderr",
     "output_type": "stream",
     "text": [
      "  0%|          | 0/2223 [00:00<?, ?it/s]/home/user/.local/lib/python3.6/site-packages/l5kit/dataset/agent.py:115: RuntimeWarning: disable_traffic_light_faces not found in config, this will raise an error in the future\n",
      "  return self.get_frame(scene_index, state_index, track_id=track_id)\n",
      "100%|██████████| 2223/2223 [36:01<00:00,  1.03it/s]\n"
     ]
    }
   ],
   "source": [
    "model.eval()\n",
    "\n",
    "future_coords_offsets_pd = []\n",
    "confidences_list = []\n",
    "timestamps = []\n",
    "agent_ids = []\n",
    "\n",
    "with torch.no_grad():\n",
    "    dataiter = tqdm(test_dataloader)\n",
    "    \n",
    "    for data in dataiter:\n",
    "\n",
    "        inputs = data[\"image\"].to(device)\n",
    "        target_availabilities = data[\"target_availabilities\"].unsqueeze(-1).to(device)\n",
    "        targets = data[\"target_positions\"].to(device)\n",
    "\n",
    "        outputs, confidences = model(inputs)\n",
    "        \n",
    "        outputs = outputs.cpu().numpy()\n",
    "        world_from_agents = data[\"world_from_agent\"].numpy()\n",
    "        centroids = data[\"centroid\"].numpy()\n",
    "        coords_offset = []\n",
    "\n",
    "        for agent_coords, world_from_agent, centroid in zip(outputs, world_from_agents, centroids):\n",
    "            for i in range(3):\n",
    "                agent_coords[i, :, :] = transform_points(agent_coords[i, :, :], world_from_agent) - centroid[:2]\n",
    "            coords_offset.append(agent_coords)\n",
    "        future_coords_offsets_pd.append(np.stack(coords_offset))\n",
    "                     \n",
    "#         future_coords_offsets_pd.append(outputs.cpu().numpy().copy())\n",
    "        confidences_list.append(confidences.cpu().numpy().copy())\n",
    "        timestamps.append(data[\"timestamp\"].numpy().copy())\n",
    "        agent_ids.append(data[\"track_id\"].numpy().copy())\n",
    "        \n",
    "#         break\n"
   ]
  },
  {
   "cell_type": "code",
   "execution_count": 11,
   "metadata": {
    "execution": {
     "iopub.execute_input": "2020-09-29T03:10:56.246182Z",
     "iopub.status.busy": "2020-09-29T03:10:56.245304Z",
     "iopub.status.idle": "2020-09-29T03:11:33.196227Z",
     "shell.execute_reply": "2020-09-29T03:11:33.195247Z"
    },
    "papermill": {
     "duration": 39.566663,
     "end_time": "2020-09-29T03:11:33.196389",
     "exception": false,
     "start_time": "2020-09-29T03:10:53.629726",
     "status": "completed"
    },
    "tags": []
   },
   "outputs": [],
   "source": [
    "write_pred_csv(OUTPUT_DIR+'submission.csv',\n",
    "               timestamps=np.concatenate(timestamps),\n",
    "               track_ids=np.concatenate(agent_ids),\n",
    "               coords=np.concatenate(future_coords_offsets_pd),\n",
    "               confs=np.concatenate(confidences_list))\n"
   ]
  },
  {
   "cell_type": "code",
   "execution_count": null,
   "metadata": {
    "papermill": {
     "duration": 2.660834,
     "end_time": "2020-09-29T03:11:38.458252",
     "exception": false,
     "start_time": "2020-09-29T03:11:35.797418",
     "status": "completed"
    },
    "tags": []
   },
   "outputs": [],
   "source": []
  }
 ],
 "metadata": {
  "kernelspec": {
   "display_name": "Python 3",
   "language": "python",
   "name": "python3"
  },
  "language_info": {
   "codemirror_mode": {
    "name": "ipython",
    "version": 3
   },
   "file_extension": ".py",
   "mimetype": "text/x-python",
   "name": "python",
   "nbconvert_exporter": "python",
   "pygments_lexer": "ipython3",
   "version": "3.6.12"
  },
  "papermill": {
   "duration": 6686.103147,
   "end_time": "2020-09-29T03:11:41.516297",
   "environment_variables": {},
   "exception": null,
   "input_path": "__notebook__.ipynb",
   "output_path": "__notebook__.ipynb",
   "parameters": {},
   "start_time": "2020-09-29T01:20:15.413150",
   "version": "2.1.0"
  }
 },
 "nbformat": 4,
 "nbformat_minor": 4
}
