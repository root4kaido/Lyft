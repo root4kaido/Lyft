{
 "cells": [
  {
   "cell_type": "markdown",
   "metadata": {},
   "source": [
    "# training_templateのノートブック"
   ]
  },
  {
   "cell_type": "code",
   "execution_count": 2,
   "metadata": {},
   "outputs": [
    {
     "name": "stdout",
     "output_type": "stream",
     "text": [
      "Defaulting to user installation because normal site-packages is not writeable\n",
      "Requirement already satisfied: torch==1.6.0 in /home/user/.local/lib/python3.6/site-packages (1.6.0)\n",
      "Requirement already satisfied: numpy in /usr/local/lib/python3.6/dist-packages (from torch==1.6.0) (1.17.4)\n",
      "Requirement already satisfied: future in /usr/local/lib/python3.6/dist-packages (from torch==1.6.0) (0.18.2)\n",
      "\u001b[33mWARNING: You are using pip version 20.2.2; however, version 20.2.3 is available.\n",
      "You should consider upgrading via the '/usr/bin/python3 -m pip install --upgrade pip' command.\u001b[0m\n",
      "Defaulting to user installation because normal site-packages is not writeable\n",
      "Requirement already satisfied: zarr in /home/user/.local/lib/python3.6/site-packages (2.4.0)\n",
      "Requirement already satisfied: numpy>=1.7 in /usr/local/lib/python3.6/dist-packages (from zarr) (1.17.4)\n",
      "Requirement already satisfied: numcodecs>=0.6.4 in /home/user/.local/lib/python3.6/site-packages (from zarr) (0.7.2)\n",
      "Requirement already satisfied: asciitree in /home/user/.local/lib/python3.6/site-packages (from zarr) (0.3.3)\n",
      "Requirement already satisfied: fasteners in /home/user/.local/lib/python3.6/site-packages (from zarr) (0.15)\n",
      "Requirement already satisfied: six in /usr/local/lib/python3.6/dist-packages (from fasteners->zarr) (1.11.0)\n",
      "Requirement already satisfied: monotonic>=0.1 in /home/user/.local/lib/python3.6/site-packages (from fasteners->zarr) (1.5)\n",
      "\u001b[33mWARNING: You are using pip version 20.2.2; however, version 20.2.3 is available.\n",
      "You should consider upgrading via the '/usr/bin/python3 -m pip install --upgrade pip' command.\u001b[0m\n",
      "Defaulting to user installation because normal site-packages is not writeable\n",
      "Collecting mlflow\n",
      "  Downloading mlflow-1.11.0-py3-none-any.whl (13.9 MB)\n",
      "\u001b[K     |████████████████████████████████| 13.9 MB 4.2 MB/s \n",
      "\u001b[?25hCollecting Flask\n",
      "  Downloading Flask-1.1.2-py2.py3-none-any.whl (94 kB)\n",
      "\u001b[K     |████████████████████████████████| 94 kB 8.2 MB/s \n",
      "\u001b[?25hCollecting sqlalchemy<=1.3.13\n",
      "  Downloading SQLAlchemy-1.3.13.tar.gz (6.0 MB)\n",
      "\u001b[K     |████████████████████████████████| 6.0 MB 38.9 MB/s \n",
      "\u001b[?25hRequirement already satisfied: pandas in /usr/local/lib/python3.6/dist-packages (from mlflow) (1.1.1)\n",
      "Collecting docker>=4.0.0\n",
      "  Downloading docker-4.3.1-py2.py3-none-any.whl (145 kB)\n",
      "\u001b[K     |████████████████████████████████| 145 kB 21.8 MB/s \n",
      "\u001b[?25hRequirement already satisfied: requests>=2.17.3 in /usr/local/lib/python3.6/dist-packages (from mlflow) (2.24.0)\n",
      "Requirement already satisfied: six>=1.10.0 in /usr/local/lib/python3.6/dist-packages (from mlflow) (1.11.0)\n",
      "Requirement already satisfied: python-dateutil in /usr/local/lib/python3.6/dist-packages (from mlflow) (2.7.3)\n",
      "Collecting sqlparse\n",
      "  Downloading sqlparse-0.3.1-py2.py3-none-any.whl (40 kB)\n",
      "\u001b[K     |████████████████████████████████| 40 kB 9.0 MB/s \n",
      "\u001b[?25hRequirement already satisfied: cloudpickle in /usr/local/lib/python3.6/dist-packages (from mlflow) (1.6.0)\n",
      "Collecting prometheus-flask-exporter\n",
      "  Downloading prometheus_flask_exporter-0.18.0.tar.gz (21 kB)\n",
      "Collecting alembic<=1.4.1\n",
      "  Downloading alembic-1.4.1.tar.gz (1.1 MB)\n",
      "\u001b[K     |████████████████████████████████| 1.1 MB 75.7 MB/s \n",
      "\u001b[?25hCollecting gunicorn; platform_system != \"Windows\"\n",
      "  Downloading gunicorn-20.0.4-py2.py3-none-any.whl (77 kB)\n",
      "\u001b[K     |████████████████████████████████| 77 kB 15.8 MB/s \n",
      "\u001b[?25hCollecting gitpython>=2.1.0\n",
      "  Downloading GitPython-3.1.9-py3-none-any.whl (159 kB)\n",
      "\u001b[K     |████████████████████████████████| 159 kB 75.6 MB/s \n",
      "\u001b[?25hCollecting azure-storage-blob>=12.0\n",
      "  Downloading azure_storage_blob-12.5.0-py2.py3-none-any.whl (326 kB)\n",
      "\u001b[K     |████████████████████████████████| 326 kB 66.4 MB/s \n",
      "\u001b[?25hRequirement already satisfied: protobuf>=3.6.0 in /home/user/.local/lib/python3.6/site-packages (from mlflow) (3.13.0)\n",
      "Requirement already satisfied: numpy in /usr/local/lib/python3.6/dist-packages (from mlflow) (1.17.4)\n",
      "Collecting gorilla\n",
      "  Downloading gorilla-0.3.0-py2.py3-none-any.whl (11 kB)\n",
      "Collecting querystring-parser\n",
      "  Downloading querystring_parser-1.2.4.tar.gz (5.5 kB)\n",
      "Requirement already satisfied: pyyaml in /usr/local/lib/python3.6/dist-packages (from mlflow) (5.3.1)\n",
      "Collecting databricks-cli>=0.8.7\n",
      "  Downloading databricks-cli-0.12.0.tar.gz (53 kB)\n",
      "\u001b[K     |████████████████████████████████| 53 kB 7.1 MB/s \n",
      "\u001b[?25hRequirement already satisfied: entrypoints in /usr/local/lib/python3.6/dist-packages (from mlflow) (0.3)\n",
      "Collecting click>=7.0\n",
      "  Downloading click-7.1.2-py2.py3-none-any.whl (82 kB)\n",
      "\u001b[K     |████████████████████████████████| 82 kB 3.3 MB/s \n",
      "\u001b[?25hRequirement already satisfied: Jinja2>=2.10.1 in /usr/local/lib/python3.6/dist-packages (from Flask->mlflow) (2.11.2)\n",
      "Collecting itsdangerous>=0.24\n",
      "  Downloading itsdangerous-1.1.0-py2.py3-none-any.whl (16 kB)\n",
      "Requirement already satisfied: Werkzeug>=0.15 in /usr/local/lib/python3.6/dist-packages (from Flask->mlflow) (1.0.1)\n",
      "Requirement already satisfied: pytz>=2017.2 in /usr/local/lib/python3.6/dist-packages (from pandas->mlflow) (2020.1)\n",
      "Collecting websocket-client>=0.32.0\n",
      "  Downloading websocket_client-0.57.0-py2.py3-none-any.whl (200 kB)\n",
      "\u001b[K     |████████████████████████████████| 200 kB 95.9 MB/s \n",
      "\u001b[?25hRequirement already satisfied: idna<3,>=2.5 in /usr/local/lib/python3.6/dist-packages (from requests>=2.17.3->mlflow) (2.10)\n",
      "Requirement already satisfied: urllib3!=1.25.0,!=1.25.1,<1.26,>=1.21.1 in /usr/local/lib/python3.6/dist-packages (from requests>=2.17.3->mlflow) (1.25.10)\n",
      "Requirement already satisfied: chardet<4,>=3.0.2 in /usr/local/lib/python3.6/dist-packages (from requests>=2.17.3->mlflow) (3.0.4)\n",
      "Requirement already satisfied: certifi>=2017.4.17 in /usr/local/lib/python3.6/dist-packages (from requests>=2.17.3->mlflow) (2020.6.20)\n",
      "Requirement already satisfied: prometheus_client in /usr/local/lib/python3.6/dist-packages (from prometheus-flask-exporter->mlflow) (0.8.0)\n",
      "Requirement already satisfied: Mako in /usr/local/lib/python3.6/dist-packages (from alembic<=1.4.1->mlflow) (1.1.3)\n",
      "Requirement already satisfied: python-editor>=0.3 in /usr/local/lib/python3.6/dist-packages (from alembic<=1.4.1->mlflow) (1.0.4)\n",
      "Requirement already satisfied: setuptools>=3.0 in /usr/local/lib/python3.6/dist-packages (from gunicorn; platform_system != \"Windows\"->mlflow) (49.6.0)\n",
      "Collecting gitdb<5,>=4.0.1\n",
      "  Downloading gitdb-4.0.5-py3-none-any.whl (63 kB)\n",
      "\u001b[K     |████████████████████████████████| 63 kB 5.0 MB/s \n",
      "\u001b[?25hCollecting msrest>=0.6.10\n",
      "  Downloading msrest-0.6.19-py2.py3-none-any.whl (84 kB)\n",
      "\u001b[K     |████████████████████████████████| 84 kB 10.4 MB/s \n",
      "\u001b[?25hCollecting azure-core<2.0.0,>=1.6.0\n",
      "  Downloading azure_core-1.8.2-py2.py3-none-any.whl (122 kB)\n",
      "\u001b[K     |████████████████████████████████| 122 kB 71.6 MB/s \n",
      "\u001b[?25hCollecting cryptography>=2.1.4\n",
      "  Downloading cryptography-3.1.1-cp35-abi3-manylinux2010_x86_64.whl (2.6 MB)\n",
      "\u001b[K     |████████████████████████████████| 2.6 MB 112.2 MB/s \n",
      "\u001b[?25hCollecting tabulate>=0.7.7\n",
      "  Downloading tabulate-0.8.7-py3-none-any.whl (24 kB)\n",
      "Collecting tenacity>=6.2.0\n",
      "  Downloading tenacity-6.2.0-py2.py3-none-any.whl (24 kB)\n",
      "Requirement already satisfied: MarkupSafe>=0.23 in /usr/local/lib/python3.6/dist-packages (from Jinja2>=2.10.1->Flask->mlflow) (1.1.1)\n",
      "Collecting smmap<4,>=3.0.1\n",
      "  Downloading smmap-3.0.4-py2.py3-none-any.whl (25 kB)\n",
      "Collecting isodate>=0.6.0\n",
      "  Downloading isodate-0.6.0-py2.py3-none-any.whl (45 kB)\n",
      "\u001b[K     |████████████████████████████████| 45 kB 11.4 MB/s \n",
      "\u001b[?25hCollecting requests-oauthlib>=0.5.0\n",
      "  Downloading requests_oauthlib-1.3.0-py2.py3-none-any.whl (23 kB)\n",
      "Requirement already satisfied: cffi!=1.11.3,>=1.8 in /usr/local/lib/python3.6/dist-packages (from cryptography>=2.1.4->azure-storage-blob>=12.0->mlflow) (1.14.2)\n",
      "Collecting oauthlib>=3.0.0\n",
      "  Downloading oauthlib-3.1.0-py2.py3-none-any.whl (147 kB)\n",
      "\u001b[K     |████████████████████████████████| 147 kB 80.0 MB/s \n",
      "\u001b[?25hRequirement already satisfied: pycparser in /usr/local/lib/python3.6/dist-packages (from cffi!=1.11.3,>=1.8->cryptography>=2.1.4->azure-storage-blob>=12.0->mlflow) (2.20)\n",
      "Building wheels for collected packages: sqlalchemy, prometheus-flask-exporter, alembic, querystring-parser, databricks-cli\n",
      "  Building wheel for sqlalchemy (setup.py) ... \u001b[?25ldone\n",
      "\u001b[?25h  Created wheel for sqlalchemy: filename=SQLAlchemy-1.3.13-cp36-cp36m-linux_x86_64.whl size=1206759 sha256=c7c023e5f2e4b33f2a11f9daf3ab892e05a8f7ddb719570cb9fb49b48bd151cf\n",
      "  Stored in directory: /home/user/.cache/pip/wheels/28/3e/f9/8eca04781258bb6956ffba37e4e6e6951e5b3a16d4494b91cb\n",
      "  Building wheel for prometheus-flask-exporter (setup.py) ... \u001b[?25ldone\n",
      "\u001b[?25h  Created wheel for prometheus-flask-exporter: filename=prometheus_flask_exporter-0.18.0-py3-none-any.whl size=22567 sha256=cdaaf72be5fa5ab8690c03088648b0acee9d0923bf1045842d91f41e3a99992d\n",
      "  Stored in directory: /home/user/.cache/pip/wheels/c0/d4/8d/9fb53e97e3a7572fa1a9db5227c5fdac73d9b2558fbb057b74\n",
      "  Building wheel for alembic (setup.py) ... \u001b[?25ldone\n",
      "\u001b[?25h  Created wheel for alembic: filename=alembic-1.4.1-py2.py3-none-any.whl size=160575 sha256=2064a1b41051a15104e5a32c35862e00267c62a705380aa1c1d47c7af996878f\n",
      "  Stored in directory: /home/user/.cache/pip/wheels/e9/7b/aa/e18c983d8236b141f85838ba0f8e4e4ae9bcf7f1e00ff726ec\n",
      "  Building wheel for querystring-parser (setup.py) ... \u001b[?25ldone\n",
      "\u001b[?25h  Created wheel for querystring-parser: filename=querystring_parser-1.2.4-py3-none-any.whl size=7967 sha256=ba8f52eddce74f30924c2520bfdfbc03816916ac62f743ba388691f3613755ce\n",
      "  Stored in directory: /home/user/.cache/pip/wheels/87/da/0d/a9e8051c7c19128c271107462cd444b37afc22aaed15061ed5\n",
      "  Building wheel for databricks-cli (setup.py) ... \u001b[?25ldone\n",
      "\u001b[?25h  Created wheel for databricks-cli: filename=databricks_cli-0.12.0-py3-none-any.whl size=101783 sha256=0faef9cb7831efffe83cd89fff47d28a3daec54aa899c1a939643479088ee7e8\n",
      "  Stored in directory: /home/user/.cache/pip/wheels/ab/59/cc/04e53d7aad0af59e233bba673c4254f4a09eff5db183a3a661\n",
      "Successfully built sqlalchemy prometheus-flask-exporter alembic querystring-parser databricks-cli\n",
      "Installing collected packages: click, itsdangerous, Flask, sqlalchemy, websocket-client, docker, sqlparse, prometheus-flask-exporter, alembic, gunicorn, smmap, gitdb, gitpython, isodate, oauthlib, requests-oauthlib, msrest, azure-core, cryptography, azure-storage-blob, gorilla, querystring-parser, tabulate, tenacity, databricks-cli, mlflow\n",
      "\u001b[33m  WARNING: The script flask is installed in '/home/user/.local/bin' which is not on PATH.\n",
      "  Consider adding this directory to PATH or, if you prefer to suppress this warning, use --no-warn-script-location.\u001b[0m\n",
      "\u001b[33m  WARNING: The script sqlformat is installed in '/home/user/.local/bin' which is not on PATH.\n",
      "  Consider adding this directory to PATH or, if you prefer to suppress this warning, use --no-warn-script-location.\u001b[0m\n",
      "\u001b[33m  WARNING: The script alembic is installed in '/home/user/.local/bin' which is not on PATH.\n",
      "  Consider adding this directory to PATH or, if you prefer to suppress this warning, use --no-warn-script-location.\u001b[0m\n",
      "\u001b[33m  WARNING: The script gunicorn is installed in '/home/user/.local/bin' which is not on PATH.\n",
      "  Consider adding this directory to PATH or, if you prefer to suppress this warning, use --no-warn-script-location.\u001b[0m\n",
      "\u001b[33m  WARNING: The script tabulate is installed in '/home/user/.local/bin' which is not on PATH.\n",
      "  Consider adding this directory to PATH or, if you prefer to suppress this warning, use --no-warn-script-location.\u001b[0m\n",
      "\u001b[33m  WARNING: The scripts databricks and dbfs are installed in '/home/user/.local/bin' which is not on PATH.\n",
      "  Consider adding this directory to PATH or, if you prefer to suppress this warning, use --no-warn-script-location.\u001b[0m\n",
      "\u001b[33m  WARNING: The script mlflow is installed in '/home/user/.local/bin' which is not on PATH.\n",
      "  Consider adding this directory to PATH or, if you prefer to suppress this warning, use --no-warn-script-location.\u001b[0m\n",
      "Successfully installed Flask-1.1.2 alembic-1.4.1 azure-core-1.8.2 azure-storage-blob-12.5.0 click-7.1.2 cryptography-3.1.1 databricks-cli-0.12.0 docker-4.3.1 gitdb-4.0.5 gitpython-3.1.9 gorilla-0.3.0 gunicorn-20.0.4 isodate-0.6.0 itsdangerous-1.1.0 mlflow-1.11.0 msrest-0.6.19 oauthlib-3.1.0 prometheus-flask-exporter-0.18.0 querystring-parser-1.2.4 requests-oauthlib-1.3.0 smmap-3.0.4 sqlalchemy-1.3.13 sqlparse-0.3.1 tabulate-0.8.7 tenacity-6.2.0 websocket-client-0.57.0\n",
      "\u001b[33mWARNING: You are using pip version 20.2.2; however, version 20.2.3 is available.\n",
      "You should consider upgrading via the '/usr/bin/python3 -m pip install --upgrade pip' command.\u001b[0m\n"
     ]
    }
   ],
   "source": [
    "!pip install torch==1.6.0\n",
    "!pip install zarr\n",
    "!pip install mlflow"
   ]
  },
  {
   "cell_type": "code",
   "execution_count": 1,
   "metadata": {},
   "outputs": [
    {
     "name": "stderr",
     "output_type": "stream",
     "text": [
      "/usr/local/lib/python3.6/dist-packages/matplotlib/__init__.py:886: MatplotlibDeprecationWarning: \n",
      "examples.directory is deprecated; in the future, examples will be found relative to the 'datapath' directory.\n",
      "  \"found relative to the 'datapath' directory.\".format(key))\n"
     ]
    }
   ],
   "source": [
    "from pathlib import Path\n",
    "import pandas as pd\n",
    "import numpy as np\n",
    "import os, gc\n",
    "os.environ[\"L5KIT_DATA_FOLDER\"] = '/home/knikaido/work/Lyft/data/lyft-motion-prediction-autonomous-vehicles'\n",
    "import zarr\n",
    "from prettytable import PrettyTable\n",
    "import seaborn as sns\n",
    "import matplotlib.pyplot as plt\n",
    "from matplotlib import animation\n",
    "from IPython.display import HTML\n",
    "from tqdm import tqdm\n",
    "import time\n",
    "import cloudpickle\n",
    "import requests\n",
    "import mlflow\n",
    "import yaml\n",
    "from typing import Dict\n",
    "\n",
    "import torch\n",
    "from torch import nn, optim\n",
    "from torch.utils.data import DataLoader\n",
    "from torchvision.models.resnet import resnet18, resnet50, resnet34\n",
    "from torch import Tensor\n",
    "\n",
    "\n",
    "from l5kitcustom.data import PERCEPTION_LABELS\n",
    "from l5kitcustom.rasterization import build_rasterizer\n",
    "from l5kitcustom.configs import load_config_data\n",
    "from l5kitcustom.visualization import draw_trajectory, TARGET_POINTS_COLOR\n",
    "from l5kitcustom.geometry import transform_points\n",
    "from l5kitcustom.data import ChunkedDataset, LocalDataManager\n",
    "from l5kitcustom.dataset import EgoDataset, AgentDataset"
   ]
  },
  {
   "cell_type": "code",
   "execution_count": 2,
   "metadata": {},
   "outputs": [
    {
     "name": "stdout",
     "output_type": "stream",
     "text": [
      "l5kit @ file:///home/knikaido/work/Lyft/Git/external/l5kitorigin/l5kit\n",
      "l5kitcustom @ file:///home/knikaido/work/Lyft/Git/external/l5kitcustom/l5kit\n"
     ]
    }
   ],
   "source": [
    "!pip freeze | grep l5kit"
   ]
  },
  {
   "cell_type": "code",
   "execution_count": 3,
   "metadata": {},
   "outputs": [],
   "source": [
    "DEBUG = False\n",
    "\n",
    "common_cfg = {\n",
    "    'seed': 500,\n",
    "    'output_dir': './outputs/1025_2/',\n",
    "    'epoch': 2,\n",
    "    'train_step': 5 if DEBUG else 500,\n",
    "    'valid_step': 5 if DEBUG else 500,\n",
    "    'train_max': 12,\n",
    "    'learning_rate': 1e-3\n",
    "}\n",
    "\n",
    "\n",
    "# training cfg\n",
    "training_cfg = {\n",
    "    \n",
    "    'format_version': 4,\n",
    "    \n",
    "     ## Model options\n",
    "    'model_params': {\n",
    "        'model_architecture': 'resnet34',\n",
    "        'history_num_frames': 10,\n",
    "        'history_step_size': 1,\n",
    "        'history_delta_time': 0.1,\n",
    "        'future_num_frames': 50,\n",
    "        'future_step_size': 1,\n",
    "        'future_delta_time': 0.1,\n",
    "    },\n",
    "\n",
    "    ## Input raster parameters\n",
    "    'raster_params': {\n",
    "        \n",
    "        'raster_size': [224, 224], # raster's spatial resolution [meters per pixel]: the size in the real world one pixel corresponds to.\n",
    "        'pixel_size': [0.5, 0.5], # From 0 to 1 per axis, [0.5,0.5] would show the ego centered in the image.\n",
    "        'ego_center': [0.25, 0.5],\n",
    "        'map_type': \"py_semantic\",\n",
    "        \n",
    "        # the keys are relative to the dataset environment variable\n",
    "        'satellite_map_key': \"aerial_map/aerial_map.png\",\n",
    "        'semantic_map_key': \"semantic_map/semantic_map.pb\",\n",
    "        'dataset_meta_key': \"meta.json\",\n",
    "\n",
    "        # e.g. 0.0 include every obstacle, 0.5 show those obstacles with >0.5 probability of being\n",
    "        # one of the classes we care about (cars, bikes, peds, etc.), >=1.0 filter all other agents.\n",
    "        'filter_agents_threshold': 0.5\n",
    "    },\n",
    "\n",
    "    ## Data loader options\n",
    "    'train_data_loader': {\n",
    "        'key': \"scenes/train.zarr\",\n",
    "        'batch_size': 32,\n",
    "        'shuffle': True,\n",
    "        'num_workers': 0\n",
    "    },\n",
    "\n",
    "    ## Train params\n",
    "    'train_params': {\n",
    "        'checkpoint_every_n_steps': 5000,\n",
    "        'max_num_steps': 10 if DEBUG else 10000\n",
    "    }\n",
    "}\n",
    "\n",
    "\n",
    "# training cfg\n",
    "validation_cfg = {\n",
    "    \n",
    "    'format_version': 4,\n",
    "    \n",
    "     ## Model options\n",
    "    'model_params': {\n",
    "        'model_architecture': 'resnet34',\n",
    "        'history_num_frames': 10,\n",
    "        'history_step_size': 1,\n",
    "        'history_delta_time': 0.1,\n",
    "        'future_num_frames': 50,\n",
    "        'future_step_size': 1,\n",
    "        'future_delta_time': 0.1,\n",
    "    },\n",
    "\n",
    "    ## Input raster parameters\n",
    "    'raster_params': {\n",
    "        \n",
    "        'raster_size': [224, 224], # raster's spatial resolution [meters per pixel]: the size in the real world one pixel corresponds to.\n",
    "        'pixel_size': [0.5, 0.5], # From 0 to 1 per axis, [0.5,0.5] would show the ego centered in the image.\n",
    "        'ego_center': [0.25, 0.5],\n",
    "        'map_type': \"py_semantic\",\n",
    "        \n",
    "        # the keys are relative to the dataset environment variable\n",
    "        'satellite_map_key': \"aerial_map/aerial_map.png\",\n",
    "        'semantic_map_key': \"semantic_map/semantic_map.pb\",\n",
    "        'dataset_meta_key': \"meta.json\",\n",
    "\n",
    "        # e.g. 0.0 include every obstacle, 0.5 show those obstacles with >0.5 probability of being\n",
    "        # one of the classes we care about (cars, bikes, peds, etc.), >=1.0 filter all other agents.\n",
    "        'filter_agents_threshold': 0.5\n",
    "    },\n",
    "\n",
    "    ## Data loader options\n",
    "    'valid_data_loader': {\n",
    "        'key': \"scenes/validate.zarr\",\n",
    "        'batch_size': 2,\n",
    "        'shuffle': True,\n",
    "        'num_workers': 0\n",
    "    },\n",
    "\n",
    "    ## Valid params\n",
    "    'valid_params': {\n",
    "        'checkpoint_every_n_steps': 5000,\n",
    "        'max_num_steps': 10 if DEBUG else 1000\n",
    "    }\n",
    "}\n",
    "\n",
    "# # inference cfg\n",
    "# inference_cfg = {\n",
    "    \n",
    "#     'format_version': 4,\n",
    "#     'model_params': {\n",
    "#         'history_num_frames': 10,\n",
    "#         'history_step_size': 1,\n",
    "#         'history_delta_time': 0.1,\n",
    "#         'future_num_frames': 50,\n",
    "#         'future_step_size': 1,\n",
    "#         'future_delta_time': 0.1\n",
    "#     },\n",
    "    \n",
    "#     'raster_params': {\n",
    "#         'raster_size': [448, 448],\n",
    "#         'pixel_size': [0.5, 0.5],\n",
    "#         'ego_center': [0.25, 0.5],\n",
    "#         'map_type': 'py_semantic',\n",
    "#         'satellite_map_key': 'aerial_map/aerial_map.png',\n",
    "#         'semantic_map_key': 'semantic_map/semantic_map.pb',\n",
    "#         'dataset_meta_key': 'meta.json',\n",
    "#         'filter_agents_threshold': 0.5\n",
    "#     },\n",
    "    \n",
    "#         'test_data_loader': {\n",
    "#         'key': 'scenes/test.zarr',\n",
    "#         'batch_size': 16,\n",
    "#         'shuffle': False,\n",
    "#         'num_workers': 0\n",
    "#     }\n",
    "\n",
    "# }"
   ]
  },
  {
   "cell_type": "code",
   "execution_count": 4,
   "metadata": {},
   "outputs": [],
   "source": [
    "if DEBUG==False:\n",
    "    mlflow.start_run(run_name='1025_2.ipynb')"
   ]
  },
  {
   "cell_type": "code",
   "execution_count": 5,
   "metadata": {},
   "outputs": [],
   "source": [
    "OUTPUT_DIR = common_cfg['output_dir']\n",
    "INPUT_ROOT = Path('/home/knikaido/work/Lyft/data/')\n",
    "DATA_DIR = INPUT_ROOT / 'lyft-motion-prediction-autonomous-vehicles/'\n",
    "SAMPLE_ZARR = DATA_DIR / 'scenes/sample.zarr'\n",
    "\n",
    "# cfg = load_config_data(str(INPUT_ROOT / \"lyft-config-files/visualisation_config.yaml\"))"
   ]
  },
  {
   "cell_type": "code",
   "execution_count": 6,
   "metadata": {},
   "outputs": [],
   "source": [
    "def set_seed(seed: int = 42):\n",
    "#     random.seed(seed)\n",
    "    np.random.seed(seed)\n",
    "    os.environ[\"PYTHONHASHSEED\"] = str(seed)\n",
    "    torch.manual_seed(seed)\n",
    "    torch.cuda.manual_seed(seed)  # type: ignore\n",
    "#     torch.backends.cudnn.deterministic = True  # type: ignore\n",
    "#     torch.backends.cudnn.benchmark = True  # type: ignore\n",
    "\n",
    "set_seed(common_cfg['seed'])"
   ]
  },
  {
   "cell_type": "code",
   "execution_count": null,
   "metadata": {},
   "outputs": [],
   "source": []
  },
  {
   "cell_type": "code",
   "execution_count": 7,
   "metadata": {},
   "outputs": [
    {
     "name": "stdout",
     "output_type": "stream",
     "text": [
      "{'format_version': 4, 'model_params': {'model_architecture': 'resnet34', 'history_num_frames': 10, 'history_step_size': 1, 'history_delta_time': 0.1, 'future_num_frames': 50, 'future_step_size': 1, 'future_delta_time': 0.1}, 'raster_params': {'raster_size': [224, 224], 'pixel_size': [0.5, 0.5], 'ego_center': [0.25, 0.5], 'map_type': 'py_semantic', 'satellite_map_key': 'aerial_map/aerial_map.png', 'semantic_map_key': 'semantic_map/semantic_map.pb', 'dataset_meta_key': 'meta.json', 'filter_agents_threshold': 0.5}, 'train_data_loader': {'key': 'scenes/train.zarr', 'batch_size': 32, 'shuffle': True, 'num_workers': 0}, 'train_params': {'checkpoint_every_n_steps': 5000, 'max_num_steps': 10000}}\n"
     ]
    }
   ],
   "source": [
    "# root directory\n",
    "# DIR_INPUT = \"/kaggle/input/lyft-motion-prediction-autonomous-vehicles\"\n",
    "\n",
    "#submission\n",
    "SINGLE_MODE_SUBMISSION = f\"{DATA_DIR}/single_mode_sample_submission.csv\"\n",
    "MULTI_MODE_SUBMISSION = f\"{DATA_DIR}/multi_mode_sample_submission.csv\"\n",
    "\n",
    "# set env variable for data\n",
    "os.environ[\"L5KIT_DATA_FOLDER\"] = str(DATA_DIR)\n",
    "dm = LocalDataManager(None)\n",
    "print(training_cfg)"
   ]
  },
  {
   "cell_type": "code",
   "execution_count": 8,
   "metadata": {},
   "outputs": [],
   "source": [
    "train_mask = np.load(f\"{DATA_DIR}/scenes/mask.npz\")"
   ]
  },
  {
   "cell_type": "code",
   "execution_count": 9,
   "metadata": {},
   "outputs": [
    {
     "data": {
      "text/plain": [
       "(88594921,)"
      ]
     },
     "execution_count": 9,
     "metadata": {},
     "output_type": "execute_result"
    }
   ],
   "source": [
    "train_mask[\"arr_0\"].shape"
   ]
  },
  {
   "cell_type": "code",
   "execution_count": 10,
   "metadata": {},
   "outputs": [
    {
     "name": "stdout",
     "output_type": "stream",
     "text": [
      "+------------+------------+------------+---------------+-----------------+----------------------+----------------------+----------------------+---------------------+\n",
      "| Num Scenes | Num Frames | Num Agents | Num TR lights | Total Time (hr) | Avg Frames per Scene | Avg Agents per Frame | Avg Scene Time (sec) | Avg Frame frequency |\n",
      "+------------+------------+------------+---------------+-----------------+----------------------+----------------------+----------------------+---------------------+\n",
      "|   16265    |  4039527   | 320124624  |    38735988   |      112.19     |        248.36        |        79.25         |        24.83         |        10.00        |\n",
      "+------------+------------+------------+---------------+-----------------+----------------------+----------------------+----------------------+---------------------+\n"
     ]
    }
   ],
   "source": [
    "# training cfg\n",
    "train_cfg = training_cfg[\"train_data_loader\"]\n",
    "\n",
    "# rasterizer\n",
    "rasterizer = build_rasterizer(training_cfg, dm)\n",
    "\n",
    "# dataloader\n",
    "train_zarr = ChunkedDataset(dm.require(train_cfg[\"key\"])).open()\n",
    "train_mask = np.load(f\"{DATA_DIR}/scenes/mask.npz\")[\"arr_0\"]\n",
    "train_dataset = AgentDataset(training_cfg, train_zarr, rasterizer)\n",
    "train_dataloader = DataLoader(train_dataset, shuffle=train_cfg[\"shuffle\"], batch_size=train_cfg[\"batch_size\"], \n",
    "                             num_workers=train_cfg[\"num_workers\"])\n",
    "print(train_dataset)"
   ]
  },
  {
   "cell_type": "code",
   "execution_count": 11,
   "metadata": {},
   "outputs": [
    {
     "name": "stdout",
     "output_type": "stream",
     "text": [
      "+------------+------------+------------+---------------+-----------------+----------------------+----------------------+----------------------+---------------------+\n",
      "| Num Scenes | Num Frames | Num Agents | Num TR lights | Total Time (hr) | Avg Frames per Scene | Avg Agents per Frame | Avg Scene Time (sec) | Avg Frame frequency |\n",
      "+------------+------------+------------+---------------+-----------------+----------------------+----------------------+----------------------+---------------------+\n",
      "|   16220    |  4030296   | 312617887  |    29277930   |      111.97     |        248.48        |        77.57         |        24.85         |        10.00        |\n",
      "+------------+------------+------------+---------------+-----------------+----------------------+----------------------+----------------------+---------------------+\n"
     ]
    }
   ],
   "source": [
    "# validation cfg\n",
    "valid_cfg = validation_cfg[\"valid_data_loader\"]\n",
    "\n",
    "# rasterizer\n",
    "rasterizer = build_rasterizer(validation_cfg, dm)\n",
    "\n",
    "# dataloader\n",
    "valid_zarr = ChunkedDataset(dm.require(valid_cfg[\"key\"])).open()\n",
    "valid_dataset = AgentDataset(validation_cfg, valid_zarr, rasterizer)\n",
    "valid_dataloader = DataLoader(valid_dataset, shuffle=valid_cfg[\"shuffle\"], batch_size=valid_cfg[\"batch_size\"], \n",
    "                             num_workers=valid_cfg[\"num_workers\"])\n",
    "print(valid_dataset)"
   ]
  },
  {
   "cell_type": "markdown",
   "metadata": {},
   "source": [
    "## loss"
   ]
  },
  {
   "cell_type": "code",
   "execution_count": 12,
   "metadata": {},
   "outputs": [],
   "source": [
    "def pytorch_neg_multi_log_likelihood_batch(\n",
    "    gt: Tensor, pred: Tensor, confidences: Tensor, avails: Tensor\n",
    ") -> Tensor:\n",
    "    \"\"\"\n",
    "    Compute a negative log-likelihood for the multi-modal scenario.\n",
    "    log-sum-exp trick is used here to avoid underflow and overflow, For more information about it see:\n",
    "    https://en.wikipedia.org/wiki/LogSumExp#log-sum-exp_trick_for_log-domain_calculations\n",
    "    https://timvieira.github.io/blog/post/2014/02/11/exp-normalize-trick/\n",
    "    https://leimao.github.io/blog/LogSumExp/\n",
    "    Args:\n",
    "        gt (Tensor): array of shape (bs)x(time)x(2D coords)\n",
    "        pred (Tensor): array of shape (bs)x(modes)x(time)x(2D coords)\n",
    "        confidences (Tensor): array of shape (bs)x(modes) with a confidence for each mode in each sample\n",
    "        avails (Tensor): array of shape (bs)x(time) with the availability for each gt timestep\n",
    "    Returns:\n",
    "        Tensor: negative log-likelihood for this example, a single float number\n",
    "    \"\"\"\n",
    "    assert len(pred.shape) == 4, f\"expected 3D (MxTxC) array for pred, got {pred.shape}\"\n",
    "    batch_size, num_modes, future_len, num_coords = pred.shape\n",
    "\n",
    "    assert gt.shape == (batch_size, future_len, num_coords), f\"expected 2D (Time x Coords) array for gt, got {gt.shape}\"\n",
    "    assert confidences.shape == (batch_size, num_modes), f\"expected 1D (Modes) array for gt, got {confidences.shape}\"\n",
    "    assert torch.allclose(torch.sum(confidences, dim=1), confidences.new_ones((batch_size,))), \"confidences should sum to 1\"\n",
    "    assert avails.shape == (batch_size, future_len), f\"expected 1D (Time) array for gt, got {avails.shape}\"\n",
    "    # assert all data are valid\n",
    "    assert torch.isfinite(pred).all(), \"invalid value found in pred\"\n",
    "    assert torch.isfinite(gt).all(), \"invalid value found in gt\"\n",
    "    assert torch.isfinite(confidences).all(), \"invalid value found in confidences\"\n",
    "    assert torch.isfinite(avails).all(), \"invalid value found in avails\"\n",
    "\n",
    "    # convert to (batch_size, num_modes, future_len, num_coords)\n",
    "    gt = torch.unsqueeze(gt, 1)  # add modes\n",
    "    avails = avails[:, None, :, None]  # add modes and cords\n",
    "\n",
    "    # error (batch_size, num_modes, future_len)\n",
    "    error = torch.sum(((gt - pred) * avails) ** 2, dim=-1)  # reduce coords and use availability\n",
    "\n",
    "    with np.errstate(divide=\"ignore\"):  # when confidence is 0 log goes to -inf, but we're fine with it\n",
    "        # error (batch_size, num_modes)\n",
    "        error = torch.log(confidences) - 0.5 * torch.sum(error, dim=-1)  # reduce time\n",
    "\n",
    "    # use max aggregator on modes for numerical stability\n",
    "    # error (batch_size, num_modes)\n",
    "    max_value, _ = error.max(dim=1, keepdim=True)  # error are negative at this point, so max() gives the minimum one\n",
    "    error = -torch.log(torch.sum(torch.exp(error - max_value), dim=-1, keepdim=True)) - max_value  # reduce modes\n",
    "    # print(\"error\", error)\n",
    "    return torch.mean(error)\n",
    "\n",
    "\n",
    "def pytorch_neg_multi_log_likelihood_single(\n",
    "    gt: Tensor, pred: Tensor, avails: Tensor\n",
    ") -> Tensor:\n",
    "    \"\"\"\n",
    "\n",
    "    Args:\n",
    "        gt (Tensor): array of shape (bs)x(time)x(2D coords)\n",
    "        pred (Tensor): array of shape (bs)x(time)x(2D coords)\n",
    "        avails (Tensor): array of shape (bs)x(time) with the availability for each gt timestep\n",
    "    Returns:\n",
    "        Tensor: negative log-likelihood for this example, a single float number\n",
    "    \"\"\"\n",
    "    # pred (bs)x(time)x(2D coords) --> (bs)x(mode=1)x(time)x(2D coords)\n",
    "    # create confidence (bs)x(mode=1)\n",
    "    batch_size, future_len, num_coords = pred.shape\n",
    "    confidences = pred.new_ones((batch_size, 1))\n",
    "    return pytorch_neg_multi_log_likelihood_batch(gt, pred.unsqueeze(1), confidences, avails)"
   ]
  },
  {
   "cell_type": "code",
   "execution_count": 13,
   "metadata": {},
   "outputs": [],
   "source": [
    "class LyftMultiModel(nn.Module):\n",
    "\n",
    "    def __init__(self, cfg: Dict, num_modes=3):\n",
    "        super().__init__()\n",
    "\n",
    "        # TODO: support other than resnet18?\n",
    "        backbone = resnet34(pretrained=True, progress=True)\n",
    "        self.backbone = backbone\n",
    "\n",
    "        num_history_channels = (cfg[\"model_params\"][\"history_num_frames\"] + 1) * 2\n",
    "        num_in_channels = 3 + num_history_channels\n",
    "\n",
    "        self.backbone.conv1 = nn.Conv2d(\n",
    "            num_in_channels,\n",
    "            self.backbone.conv1.out_channels,\n",
    "            kernel_size=self.backbone.conv1.kernel_size,\n",
    "            stride=self.backbone.conv1.stride,\n",
    "            padding=self.backbone.conv1.padding,\n",
    "            bias=False,\n",
    "        )\n",
    "\n",
    "        # This is 512 for resnet18 and resnet34;\n",
    "        # And it is 2048 for the other resnets\n",
    "        backbone_out_features = 512 + 6\n",
    "\n",
    "        # X, Y coords for the future positions (output shape: Bx50x2)\n",
    "        self.future_len = cfg[\"model_params\"][\"future_num_frames\"]\n",
    "        num_targets = 2 * self.future_len\n",
    "\n",
    "        # You can add more layers here.\n",
    "        self.head = nn.Sequential(\n",
    "            # nn.Dropout(0.2),\n",
    "            nn.Linear(in_features=backbone_out_features, out_features=4096),\n",
    "        )\n",
    "\n",
    "        self.num_preds = num_targets * num_modes\n",
    "        self.num_modes = num_modes\n",
    "\n",
    "        self.logit = nn.Linear(4096, out_features=self.num_preds + num_modes)\n",
    "\n",
    "    def forward(self, x, x2):\n",
    "        x = self.backbone.conv1(x)\n",
    "        x = self.backbone.bn1(x)\n",
    "        x = self.backbone.relu(x)\n",
    "        x = self.backbone.maxpool(x)\n",
    "\n",
    "        x = self.backbone.layer1(x)\n",
    "        x = self.backbone.layer2(x)\n",
    "        x = self.backbone.layer3(x)\n",
    "        x = self.backbone.layer4(x)\n",
    "\n",
    "        x = self.backbone.avgpool(x)\n",
    "        x = torch.flatten(x, 1)\n",
    "        \n",
    "        x = torch.cat([x, x2], axis=1)\n",
    "\n",
    "        x = self.head(x)\n",
    "        x = self.logit(x)\n",
    "\n",
    "        # pred (bs)x(modes)x(time)x(2D coords)\n",
    "        # confidences (bs)x(modes)\n",
    "        bs, _ = x.shape\n",
    "        pred, confidences = torch.split(x, self.num_preds, dim=1)\n",
    "        pred = pred.view(bs, self.num_modes, self.future_len, 2)\n",
    "        assert confidences.shape == (bs, self.num_modes)\n",
    "        confidences = torch.softmax(confidences, dim=1)\n",
    "        return pred, confidences"
   ]
  },
  {
   "cell_type": "code",
   "execution_count": 14,
   "metadata": {},
   "outputs": [],
   "source": [
    "def make_inputs2(data):\n",
    "    shape = data['yaw'].shape[0]\n",
    "    yaw = data['yaw'].reshape(shape, 1)\n",
    "#     centroid = data['centroid'].reshape(-1)\n",
    "    extent = data['extent'].reshape(shape, 3)\n",
    "    velocity = data['velocity'].reshape(shape, 2)\n",
    "    inputs2 = torch.cat([yaw, extent, velocity], axis=1).float()\n",
    "    \n",
    "    return inputs2\n",
    "    "
   ]
  },
  {
   "cell_type": "code",
   "execution_count": 15,
   "metadata": {},
   "outputs": [],
   "source": [
    "def forward(data, model, device, criterion = pytorch_neg_multi_log_likelihood_batch):\n",
    "    inputs1 = data[\"image\"].to(device)\n",
    "    inputs2 = make_inputs2(data).to(device)\n",
    "    target_availabilities = data[\"target_availabilities\"].to(device)\n",
    "    targets = data[\"target_positions\"].to(device)\n",
    "    # Forward pass\n",
    "    preds, confidences = model(inputs1, inputs2)\n",
    "    loss = criterion(targets, preds, confidences, target_availabilities)\n",
    "    return loss, preds"
   ]
  },
  {
   "cell_type": "code",
   "execution_count": null,
   "metadata": {},
   "outputs": [],
   "source": []
  },
  {
   "cell_type": "code",
   "execution_count": 16,
   "metadata": {},
   "outputs": [],
   "source": [
    "# compiling model\n",
    "device = torch.device(\"cuda:0\" if torch.cuda.is_available() else \"cpu\")\n",
    "model = LyftMultiModel(training_cfg).to(device)\n",
    "optimizer = optim.Adam(model.parameters(), lr=common_cfg['learning_rate'])\n",
    "criterion = nn.MSELoss(reduction=\"none\")\n",
    "scheduler = torch.optim.lr_scheduler.ExponentialLR(\n",
    "    optimizer, gamma=0.99999)"
   ]
  },
  {
   "cell_type": "code",
   "execution_count": 17,
   "metadata": {},
   "outputs": [
    {
     "name": "stderr",
     "output_type": "stream",
     "text": [
      "/home/user/.local/lib/python3.6/site-packages/l5kitcustom/dataset/agent.py:115: RuntimeWarning: disable_traffic_light_faces not found in config, this will raise an error in the future\n",
      "  return self.get_frame(scene_index, state_index, track_id=track_id)\n"
     ]
    }
   ],
   "source": [
    "for batch_idx, data in enumerate(train_dataloader):\n",
    "    \n",
    "    break"
   ]
  },
  {
   "cell_type": "code",
   "execution_count": 18,
   "metadata": {},
   "outputs": [
    {
     "data": {
      "text/plain": [
       "torch.Size([32, 25, 224, 224])"
      ]
     },
     "execution_count": 18,
     "metadata": {},
     "output_type": "execute_result"
    }
   ],
   "source": [
    "data['image'].shape"
   ]
  },
  {
   "cell_type": "code",
   "execution_count": 19,
   "metadata": {},
   "outputs": [
    {
     "data": {
      "text/plain": [
       "703023"
      ]
     },
     "execution_count": 19,
     "metadata": {},
     "output_type": "execute_result"
    }
   ],
   "source": [
    "len(train_dataloader)"
   ]
  },
  {
   "cell_type": "code",
   "execution_count": 20,
   "metadata": {},
   "outputs": [],
   "source": [
    "if DEBUG==False:\n",
    "    common_cfg['train_max'] = len(train_dataloader)"
   ]
  },
  {
   "cell_type": "code",
   "execution_count": 21,
   "metadata": {},
   "outputs": [],
   "source": [
    "def save_model(model):\n",
    "    torch.save(model.state_dict(), OUTPUT_DIR + 'model')\n",
    "    if DEBUG==False:\n",
    "        mlflow.log_artifact( OUTPUT_DIR + 'model')   "
   ]
  },
  {
   "cell_type": "code",
   "execution_count": 22,
   "metadata": {},
   "outputs": [],
   "source": [
    "def log(message):\n",
    "    print(message)\n",
    "    with open(OUTPUT_DIR + 'log.txt', 'a+') as logger:\n",
    "        logger.write(f'{message}\\n')\n",
    "    if DEBUG==False:\n",
    "        mlflow.log_artifact( OUTPUT_DIR + 'log.txt')  "
   ]
  },
  {
   "cell_type": "code",
   "execution_count": 23,
   "metadata": {},
   "outputs": [],
   "source": [
    "def plot_loss(t_loss, v_loss):\n",
    "    fig = plt.figure(figsize=(4,3), dpi= 80)\n",
    "    plt.title('loss')\n",
    "    plt.plot(t_loss, color='tab:red', label='train', marker='x')\n",
    "    plt.plot(v_loss, color='tab:blue', label='valid', marker='x')\n",
    "    plt.minorticks_on()\n",
    "    plt.grid(b=True, which='major', color='#666666', linestyle='-')\n",
    "    plt.grid(b=True, which='minor', color='#999999', linestyle='-', alpha=0.2)\n",
    "    plt.legend()\n",
    "    fig.savefig(OUTPUT_DIR + \"loss.png\")\n",
    "    if DEBUG==False:\n",
    "        mlflow.log_artifact(OUTPUT_DIR + \"loss.png\") "
   ]
  },
  {
   "cell_type": "code",
   "execution_count": 24,
   "metadata": {},
   "outputs": [],
   "source": [
    "# def valid_func():\n",
    "    "
   ]
  },
  {
   "cell_type": "code",
   "execution_count": null,
   "metadata": {},
   "outputs": [
    {
     "name": "stdout",
     "output_type": "stream",
     "text": [
      "valid_roop...500epoch_time:587.16907954216[sec]\n",
      "epoch [1/2] batch_index [499]\n",
      "train_loss = 545.9743175125122, valid_loss = 286.5215380684939\n",
      "save_model\n",
      "valid_roop...500epoch_time:588.9450466632843[sec]\n",
      "epoch [1/2] batch_index [999]\n",
      "train_loss = 275.4003641433716, valid_loss = 253.9722110382811\n",
      "save_model\n",
      "valid_roop...500epoch_time:591.8707449436188[sec]\n",
      "epoch [1/2] batch_index [1499]\n",
      "train_loss = 188.09952419281007, valid_loss = 150.53116737063715\n",
      "save_model\n",
      "valid_roop...500epoch_time:589.0599663257599[sec]\n",
      "epoch [1/2] batch_index [1999]\n",
      "train_loss = 159.41443814659118, valid_loss = 106.00894165452488\n",
      "save_model\n",
      "valid_roop...500epoch_time:589.8126275539398[sec]\n",
      "epoch [1/2] batch_index [2499]\n",
      "train_loss = 148.34538708877562, valid_loss = 136.9771618683062\n",
      "valid_roop...500epoch_time:592.7618064880371[sec]\n",
      "epoch [1/2] batch_index [2999]\n",
      "train_loss = 133.7717236404419, valid_loss = 173.09848968889898\n",
      "valid_roop...500epoch_time:592.8426127433777[sec]\n",
      "epoch [1/2] batch_index [3499]\n",
      "train_loss = 135.20594424438477, valid_loss = 142.4971003828351\n",
      "valid_roop...500epoch_time:594.1990659236908[sec]\n",
      "epoch [1/2] batch_index [3999]\n",
      "train_loss = 137.1631703033447, valid_loss = 166.96387296427272\n",
      "train_roop...273"
     ]
    }
   ],
   "source": [
    "# training loop\n",
    "best_valid_loss = 100000\n",
    "epoch = common_cfg['epoch']\n",
    "train_losses = []\n",
    "valid_losses = []\n",
    "for i in range(epoch):\n",
    "\n",
    "    losses_train = 0\n",
    "    losses_valid = 0\n",
    "    epoch_start = time.time()\n",
    "    scaler = torch.cuda.amp.GradScaler()\n",
    "    \n",
    "    \n",
    "    step_train_loss = 0\n",
    "    step_count = 0\n",
    "    for batch_idx, data in enumerate(train_dataloader):\n",
    "        step_count += 1\n",
    "        model.train()\n",
    "        optimizer.zero_grad()\n",
    "        with torch.cuda.amp.autocast():\n",
    "            loss, preds = forward(data, model, device)\n",
    "            scaler.scale(loss).backward()\n",
    "            scaler.step(optimizer)\n",
    "            scaler.update()\n",
    "        step_train_loss += loss.item()\n",
    "        print(\"\\r\"+'train_roop...'+str(step_count),end=\"\")\n",
    "        if step_count == common_cfg['train_step']:\n",
    "            \n",
    "            step_train_loss /= step_count\n",
    "            scheduler.step()\n",
    "            model.eval()\n",
    "            step_valid_loss = 0\n",
    "            for valid_idx, data in enumerate(valid_dataloader):\n",
    "                with torch.no_grad():\n",
    "                    loss, _ = forward(data, model, device)\n",
    "                step_valid_loss += loss.item()\n",
    "                print(\"\\r\"+'valid_roop...'+str(valid_idx),end=\"\")\n",
    "                if valid_idx == common_cfg['valid_step']:\n",
    "                    break  \n",
    "            \n",
    "            step_valid_loss = step_valid_loss / (valid_idx + 1)\n",
    "            epoch_end = time.time() - epoch_start\n",
    "            log(\"epoch_time:{0}\".format(epoch_end) + \"[sec]\")\n",
    "            log(f'epoch [{i+1}/{epoch}] batch_index [{batch_idx}]')\n",
    "            log(f'train_loss = {step_train_loss}, valid_loss = {step_valid_loss}')\n",
    "            if(step_valid_loss < best_valid_loss):\n",
    "                print('save_model')\n",
    "                save_model(model)\n",
    "                best_valid_loss = step_valid_loss\n",
    "            \n",
    "            step_train_loss = 0\n",
    "            step_valid_loss = 0\n",
    "            step_count = 0\n",
    "            epoch_start = time.time()\n",
    "            \n",
    "        if batch_idx >= common_cfg['train_max']-1:\n",
    "            break\n",
    "            \n",
    "    \n",
    "#     epoch_train_loss = losses_train / (batch_idx + 1)\n",
    "#     train_losses.append(epoch_train_loss)\n",
    "#     print('')\n",
    "    \n",
    "#     model.eval()\n",
    "#     for batch_idx, data in enumerate(valid_dataloader):\n",
    "#         with torch.no_grad():\n",
    "#             loss, _ = forward(data, model, device)\n",
    "#         losses_valid += loss.item()\n",
    "#         print(\"\\r\"+'valid_roop...'+str(batch_idx),end=\"\")\n",
    "#         if batch_idx == validation_cfg[\"valid_params\"][\"max_num_steps\"]:\n",
    "#             break   \n",
    "            \n",
    "#     epoch_end = time.time() - epoch_start\n",
    "#     epoch_valid_loss = losses_valid / (batch_idx + 1)\n",
    "#     valid_losses.append(epoch_valid_loss)\n",
    "#     print('')\n",
    "#     print(\"epoch_time:{0}\".format(epoch_end) + \"[sec]\")\n",
    "#     log(f'epoch [{i+1}/{epoch}] train_loss = {epoch_train_loss}, valid_loss = {epoch_valid_loss}')\n",
    "#     plot_loss(train_losses, valid_losses)\n",
    "    \n",
    "#     if(epoch_valid_loss < best_valid_loss):\n",
    "#         print('save_model')\n",
    "#         save_model(model)\n",
    "#         best_valid_loss = epoch_valid_loss\n",
    "        \n",
    "        \n",
    "#     break\n"
   ]
  },
  {
   "cell_type": "code",
   "execution_count": null,
   "metadata": {},
   "outputs": [],
   "source": []
  },
  {
   "cell_type": "code",
   "execution_count": null,
   "metadata": {},
   "outputs": [],
   "source": []
  },
  {
   "cell_type": "code",
   "execution_count": null,
   "metadata": {},
   "outputs": [],
   "source": [
    "line_notify_token = 'MZuX1mRyyi4hYt9v1oBSFj5A7Tr7GfMwZnu65DeHJuH'\n",
    "line_notify_api = 'https://notify-api.line.me/api/notify'\n",
    "notification_message = 'おわった'\n",
    "headers = {'Authorization': f'Bearer {line_notify_token}'}\n",
    "data = {'message': f'message: {notification_message}'}\n",
    "requests.post(line_notify_api, headers = headers, data = data)"
   ]
  },
  {
   "cell_type": "code",
   "execution_count": null,
   "metadata": {},
   "outputs": [],
   "source": [
    "if DEBUG==False:\n",
    "\n",
    "    with open(OUTPUT_DIR+'common_cfg.yaml', 'w') as file:\n",
    "        yaml.dump(common_cfg, file)\n",
    "    with open(OUTPUT_DIR+'training_cfg.yaml', 'w') as file:\n",
    "        yaml.dump(training_cfg, file)\n",
    "    mlflow.log_artifact(OUTPUT_DIR+'training_cfg.yaml')\n",
    "    with open(OUTPUT_DIR+'validation_cfg.yaml', 'w') as file:\n",
    "        yaml.dump(validation_cfg, file)\n",
    "    mlflow.log_artifact(OUTPUT_DIR+'validation_cfg.yaml')   \n",
    "#     with open(OUTPUT_DIR+'inference_cfg.yaml', 'w') as file:\n",
    "#         yaml.dump(inference_cfg, file)\n",
    "#     mlflow.log_artifact(OUTPUT_DIR+'inference_cfg.yaml')   "
   ]
  },
  {
   "cell_type": "code",
   "execution_count": null,
   "metadata": {},
   "outputs": [],
   "source": []
  },
  {
   "cell_type": "code",
   "execution_count": null,
   "metadata": {},
   "outputs": [],
   "source": [
    "if DEBUG==False:\n",
    "    mlflow.end_run()"
   ]
  },
  {
   "cell_type": "code",
   "execution_count": null,
   "metadata": {},
   "outputs": [],
   "source": [
    "  "
   ]
  },
  {
   "cell_type": "code",
   "execution_count": null,
   "metadata": {},
   "outputs": [],
   "source": []
  },
  {
   "cell_type": "markdown",
   "metadata": {},
   "source": [
    "## visualize"
   ]
  },
  {
   "cell_type": "code",
   "execution_count": 11,
   "metadata": {},
   "outputs": [
    {
     "name": "stderr",
     "output_type": "stream",
     "text": [
      "/home/user/.local/lib/python3.6/site-packages/l5kitcustom/dataset/agent.py:115: RuntimeWarning: disable_traffic_light_faces not found in config, this will raise an error in the future\n",
      "  return self.get_frame(scene_index, state_index, track_id=track_id)\n"
     ]
    },
    {
     "data": {
      "image/png": "[encoded data removed]",
      "text/plain": [
       "<Figure size 720x720 with 1 Axes>"
      ]
     },
     "metadata": {
      "needs_background": "light"
     },
     "output_type": "display_data"
    }
   ],
   "source": [
    "# cfg[\"raster_params\"][\"map_type\"] = \"py_semantic\"\n",
    "\n",
    "# # raster object for visualization\n",
    "# rast = build_rasterizer(cfg, dm)\n",
    "\n",
    "# # EgoDataset object\n",
    "# dataset = EgoDataset(cfg, zarr_dataset, rast)\n",
    "\n",
    "# select one example from our dataset\n",
    "data = train_dataset[0]\n",
    "\n",
    "im = data[\"image\"].transpose(1, 2, 0)\n",
    "im = train_dataset.rasterizer.to_rgb(im)\n",
    "target_positions_pixels = transform_points(data[\"target_positions\"] + data[\"centroid\"][:2], data[\"world_to_image\"])\n",
    "\n",
    "# plot ground truth trajectory\n",
    "draw_trajectory(im, target_positions_pixels, TARGET_POINTS_COLOR)\n",
    "\n",
    "plt.rcParams['figure.figsize'] = 10, 10\n",
    "plt.title('Ground Truth Trajectory of Autonomous Vehicle',fontsize=15)\n",
    "plt.imshow(im[::-1])\n",
    "plt.show()"
   ]
  },
  {
   "cell_type": "code",
   "execution_count": 12,
   "metadata": {},
   "outputs": [
    {
     "data": {
      "text/plain": [
       "(0.9919615387916565,\n",
       " array([  671.78094482, -2196.83374023]),\n",
       " array([0.6011633 , 1.2727729 , 0.38642073], dtype=float32),\n",
       " array([4.2793603, 7.436639 ], dtype=float32))"
      ]
     },
     "execution_count": 12,
     "metadata": {},
     "output_type": "execute_result"
    }
   ],
   "source": [
    "data['yaw'], data['centroid'], data[\"extent\"], data[\"velocity\"]"
   ]
  },
  {
   "cell_type": "code",
   "execution_count": null,
   "metadata": {},
   "outputs": [],
   "source": []
  }
 ],
 "metadata": {
  "kernelspec": {
   "display_name": "Python 3",
   "language": "python",
   "name": "python3"
  },
  "language_info": {
   "codemirror_mode": {
    "name": "ipython",
    "version": 3
   },
   "file_extension": ".py",
   "mimetype": "text/x-python",
   "name": "python",
   "nbconvert_exporter": "python",
   "pygments_lexer": "ipython3",
   "version": "3.6.12"
  }
 },
 "nbformat": 4,
 "nbformat_minor": 4
}
